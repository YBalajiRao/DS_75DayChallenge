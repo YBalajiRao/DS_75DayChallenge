{
 "cells": [
  {
   "cell_type": "code",
   "execution_count": 1,
   "id": "18f464a2",
   "metadata": {},
   "outputs": [],
   "source": [
    "#lets start this night full of exercies"
   ]
  },
  {
   "cell_type": "code",
   "execution_count": 2,
   "id": "3937649e",
   "metadata": {},
   "outputs": [],
   "source": [
    "#Write a Python program to create a tuple."
   ]
  },
  {
   "cell_type": "code",
   "execution_count": 3,
   "id": "930fb486",
   "metadata": {},
   "outputs": [],
   "source": [
    "a=()"
   ]
  },
  {
   "cell_type": "code",
   "execution_count": 5,
   "id": "dfb238cd",
   "metadata": {},
   "outputs": [
    {
     "name": "stdout",
     "output_type": "stream",
     "text": [
      "<class 'tuple'>\n"
     ]
    }
   ],
   "source": [
    "print(type(a))"
   ]
  },
  {
   "cell_type": "code",
   "execution_count": null,
   "id": "a3669e37",
   "metadata": {},
   "outputs": [],
   "source": [
    "#Write a Python program to create a tuple of numbers and print one item."
   ]
  },
  {
   "cell_type": "code",
   "execution_count": null,
   "id": "f0260502",
   "metadata": {},
   "outputs": [],
   "source": [
    "a=(1,2,3,4,5)"
   ]
  },
  {
   "cell_type": "code",
   "execution_count": 6,
   "id": "2dfad21d",
   "metadata": {},
   "outputs": [],
   "source": [
    "b=5,"
   ]
  },
  {
   "cell_type": "code",
   "execution_count": 7,
   "id": "0d419c47",
   "metadata": {},
   "outputs": [
    {
     "data": {
      "text/plain": [
       "(5,)"
      ]
     },
     "execution_count": 7,
     "metadata": {},
     "output_type": "execute_result"
    }
   ],
   "source": [
    "b"
   ]
  },
  {
   "cell_type": "code",
   "execution_count": 8,
   "id": "ba017b13",
   "metadata": {},
   "outputs": [
    {
     "name": "stdout",
     "output_type": "stream",
     "text": [
      "<class 'tuple'>\n"
     ]
    }
   ],
   "source": [
    "print(type(b))"
   ]
  },
  {
   "cell_type": "code",
   "execution_count": 9,
   "id": "d555af7c",
   "metadata": {},
   "outputs": [],
   "source": [
    "# Write a Python program to add an item to a tuple."
   ]
  },
  {
   "cell_type": "code",
   "execution_count": 10,
   "id": "e7ad67bd",
   "metadata": {},
   "outputs": [],
   "source": [
    "a=(1,2,3,4,5)"
   ]
  },
  {
   "cell_type": "code",
   "execution_count": 13,
   "id": "08958a65",
   "metadata": {},
   "outputs": [],
   "source": [
    "b=list(a)"
   ]
  },
  {
   "cell_type": "code",
   "execution_count": 14,
   "id": "a22c1319",
   "metadata": {},
   "outputs": [
    {
     "data": {
      "text/plain": [
       "[1, 2, 3, 4, 5]"
      ]
     },
     "execution_count": 14,
     "metadata": {},
     "output_type": "execute_result"
    }
   ],
   "source": [
    "b"
   ]
  },
  {
   "cell_type": "code",
   "execution_count": 15,
   "id": "09ecb024",
   "metadata": {},
   "outputs": [],
   "source": [
    "b.append(6)"
   ]
  },
  {
   "cell_type": "code",
   "execution_count": 16,
   "id": "c7b53e24",
   "metadata": {},
   "outputs": [
    {
     "data": {
      "text/plain": [
       "[1, 2, 3, 4, 5, 6]"
      ]
     },
     "execution_count": 16,
     "metadata": {},
     "output_type": "execute_result"
    }
   ],
   "source": [
    "b"
   ]
  },
  {
   "cell_type": "code",
   "execution_count": 17,
   "id": "37eea3f6",
   "metadata": {},
   "outputs": [
    {
     "data": {
      "text/plain": [
       "(1, 2, 3, 4, 5, 6)"
      ]
     },
     "execution_count": 17,
     "metadata": {},
     "output_type": "execute_result"
    }
   ],
   "source": [
    "tuple(b)"
   ]
  },
  {
   "cell_type": "code",
   "execution_count": 18,
   "id": "5f1cd9ea",
   "metadata": {},
   "outputs": [],
   "source": [
    "#Write a Python program to convert a tuple to a string."
   ]
  },
  {
   "cell_type": "code",
   "execution_count": 19,
   "id": "702b45ed",
   "metadata": {},
   "outputs": [],
   "source": [
    "a=(1,2,3)"
   ]
  },
  {
   "cell_type": "code",
   "execution_count": 22,
   "id": "1c4d8a34",
   "metadata": {},
   "outputs": [],
   "source": [
    "b=str(a)"
   ]
  },
  {
   "cell_type": "code",
   "execution_count": 23,
   "id": "7bb5bb89",
   "metadata": {},
   "outputs": [
    {
     "name": "stdout",
     "output_type": "stream",
     "text": [
      "<class 'str'>\n"
     ]
    }
   ],
   "source": [
    "print(type(b))"
   ]
  },
  {
   "cell_type": "code",
   "execution_count": 24,
   "id": "920868ea",
   "metadata": {},
   "outputs": [],
   "source": [
    "#Write a Python program to find repeated items in a tuple."
   ]
  },
  {
   "cell_type": "code",
   "execution_count": null,
   "id": "39be56c3",
   "metadata": {},
   "outputs": [],
   "source": []
  },
  {
   "cell_type": "code",
   "execution_count": 35,
   "id": "67d19fb5",
   "metadata": {},
   "outputs": [
    {
     "name": "stdout",
     "output_type": "stream",
     "text": [
      "[2, 3, 4, 5]\n"
     ]
    }
   ],
   "source": [
    "def find_repeated_items(names):\n",
    "    repeated_items = []\n",
    "    for i in names:\n",
    "        if names.count(i) > 1 and i not in repeated_items:\n",
    "            repeated_items.append(i)\n",
    "    return repeated_items\n",
    "names = (1, 2, 3, 4, 5, 6, 2, 3, 4, 5, 5)\n",
    "result = find_repeated_items(names)\n",
    "print(result)\n"
   ]
  },
  {
   "cell_type": "code",
   "execution_count": 36,
   "id": "ee021131",
   "metadata": {},
   "outputs": [],
   "source": [
    "# Write a Python program to find the length of a tuple."
   ]
  },
  {
   "cell_type": "code",
   "execution_count": 37,
   "id": "09930484",
   "metadata": {},
   "outputs": [
    {
     "data": {
      "text/plain": [
       "11"
      ]
     },
     "execution_count": 37,
     "metadata": {},
     "output_type": "execute_result"
    }
   ],
   "source": [
    "len(names)"
   ]
  },
  {
   "cell_type": "code",
   "execution_count": 38,
   "id": "98e62ac8",
   "metadata": {},
   "outputs": [],
   "source": [
    "#Write a Python program to reverse a tuple."
   ]
  },
  {
   "cell_type": "code",
   "execution_count": 39,
   "id": "8af82529",
   "metadata": {},
   "outputs": [
    {
     "data": {
      "text/plain": [
       "(5, 5, 4, 3, 2, 6, 5, 4, 3, 2, 1)"
      ]
     },
     "execution_count": 39,
     "metadata": {},
     "output_type": "execute_result"
    }
   ],
   "source": [
    "names[::-1]"
   ]
  },
  {
   "cell_type": "code",
   "execution_count": 40,
   "id": "2d0cafc2",
   "metadata": {},
   "outputs": [],
   "source": [
    "#Write a Python program to print a tuple with string formatting.\n",
    "#Sample tuple : (100, 200, 300)\n",
    "#Output : This is a tuple (100, 200, 300)"
   ]
  },
  {
   "cell_type": "code",
   "execution_count": 41,
   "id": "bb7f57a3",
   "metadata": {},
   "outputs": [],
   "source": [
    "z=(100, 200, 300)"
   ]
  },
  {
   "cell_type": "code",
   "execution_count": 44,
   "id": "613b7847",
   "metadata": {},
   "outputs": [
    {
     "name": "stdout",
     "output_type": "stream",
     "text": [
      "This is a tuple  (100, 200, 300)\n"
     ]
    }
   ],
   "source": [
    "print(\"This is a tuple \",z)"
   ]
  },
  {
   "cell_type": "code",
   "execution_count": 62,
   "id": "0e6092aa",
   "metadata": {},
   "outputs": [],
   "source": [
    "#dictionary "
   ]
  },
  {
   "cell_type": "code",
   "execution_count": 63,
   "id": "a9b58a7d",
   "metadata": {},
   "outputs": [],
   "source": [
    "#Rename key of a dictionary"
   ]
  },
  {
   "cell_type": "code",
   "execution_count": 64,
   "id": "dcbd6753",
   "metadata": {},
   "outputs": [
    {
     "name": "stdout",
     "output_type": "stream",
     "text": [
      "{'USA': 'United States of America', 'UK': 'United Kingdom', 'Canada': 'Canada', 'Australia': 'Australia', 'Japan': 'Japan', 'India': 'India', 'Germany': 'Germany', 'France': 'France', 'Brazil': 'Brazil', 'China': 'China'}\n"
     ]
    }
   ],
   "source": [
    "countries = {\n",
    "    \"USA\": \"United States of America\",\n",
    "    \"UK\": \"United Kingdom\",\n",
    "    \"Canada\": \"Canada\",\n",
    "    \"Australia\": \"Australia\",\n",
    "    \"Japan\": \"Japan\",\n",
    "    \"India\": \"India\",\n",
    "    \"Germany\": \"Germany\",\n",
    "    \"France\": \"France\",\n",
    "    \"Brazil\": \"Brazil\",\n",
    "    \"China\": \"China\"\n",
    "}\n",
    "\n",
    "# Print the dictionary\n",
    "print(countries)\n"
   ]
  },
  {
   "cell_type": "code",
   "execution_count": 65,
   "id": "15bc66b0",
   "metadata": {},
   "outputs": [],
   "source": [
    "countries.update({'China':'Superman'})"
   ]
  },
  {
   "cell_type": "code",
   "execution_count": 67,
   "id": "f6818b66",
   "metadata": {},
   "outputs": [
    {
     "data": {
      "text/plain": [
       "{'USA': 'United States of America',\n",
       " 'UK': 'United Kingdom',\n",
       " 'Canada': 'Canada',\n",
       " 'Australia': 'Australia',\n",
       " 'Japan': 'Japan',\n",
       " 'India': 'India',\n",
       " 'Germany': 'Germany',\n",
       " 'France': 'France',\n",
       " 'Brazil': 'Brazil',\n",
       " 'China': 'Superman'}"
      ]
     },
     "execution_count": 67,
     "metadata": {},
     "output_type": "execute_result"
    }
   ],
   "source": [
    "countries"
   ]
  },
  {
   "cell_type": "code",
   "execution_count": 71,
   "id": "bd771d38",
   "metadata": {},
   "outputs": [
    {
     "data": {
      "text/plain": [
       "'Superman'"
      ]
     },
     "execution_count": 71,
     "metadata": {},
     "output_type": "execute_result"
    }
   ],
   "source": [
    "countries.pop('China')"
   ]
  },
  {
   "cell_type": "code",
   "execution_count": 73,
   "id": "ca48d600",
   "metadata": {},
   "outputs": [
    {
     "data": {
      "text/plain": [
       "{'USA': 'United States of America',\n",
       " 'UK': 'United Kingdom',\n",
       " 'Canada': 'Canada',\n",
       " 'Australia': 'Australia',\n",
       " 'Japan': 'Japan',\n",
       " 'India': 'India',\n",
       " 'Germany': 'Germany',\n",
       " 'France': 'France',\n",
       " 'Brazil': 'Brazil'}"
      ]
     },
     "execution_count": 73,
     "metadata": {},
     "output_type": "execute_result"
    }
   ],
   "source": [
    "countries"
   ]
  },
  {
   "cell_type": "code",
   "execution_count": null,
   "id": "f6204539",
   "metadata": {},
   "outputs": [],
   "source": []
  },
  {
   "cell_type": "code",
   "execution_count": null,
   "id": "b07504ff",
   "metadata": {},
   "outputs": [],
   "source": []
  },
  {
   "cell_type": "code",
   "execution_count": null,
   "id": "e2b2ba46",
   "metadata": {},
   "outputs": [],
   "source": []
  }
 ],
 "metadata": {
  "kernelspec": {
   "display_name": "Python 3 (ipykernel)",
   "language": "python",
   "name": "python3"
  },
  "language_info": {
   "codemirror_mode": {
    "name": "ipython",
    "version": 3
   },
   "file_extension": ".py",
   "mimetype": "text/x-python",
   "name": "python",
   "nbconvert_exporter": "python",
   "pygments_lexer": "ipython3",
   "version": "3.11.5"
  }
 },
 "nbformat": 4,
 "nbformat_minor": 5
}
