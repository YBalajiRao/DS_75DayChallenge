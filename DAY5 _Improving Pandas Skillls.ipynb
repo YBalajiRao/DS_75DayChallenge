{
 "cells": [
  {
   "cell_type": "code",
   "execution_count": 2,
   "id": "1426e972",
   "metadata": {},
   "outputs": [],
   "source": [
    "import pandas as pd"
   ]
  },
  {
   "cell_type": "code",
   "execution_count": 12,
   "id": "9cb8969b",
   "metadata": {},
   "outputs": [],
   "source": [
    "#creating a data frame from the dictionaries\n",
    "df={\n",
    "    'names': ['sangeeta','SSDC','Topper'],\n",
    "    'Age': [18,20,45],\n",
    "    'City': ['America','USA','SUCCESS']\n",
    "\n",
    "}"
   ]
  },
  {
   "cell_type": "code",
   "execution_count": 13,
   "id": "e966cb27",
   "metadata": {},
   "outputs": [
    {
     "name": "stdout",
     "output_type": "stream",
     "text": [
      "{'names': ['sangeeta', 'SSDC', 'Topper'], 'Age': [18, 20, 45], 'City': ['America', 'USA', 'SUCCESS']}\n"
     ]
    }
   ],
   "source": [
    "print(df)"
   ]
  },
  {
   "cell_type": "code",
   "execution_count": 16,
   "id": "9f94af41",
   "metadata": {},
   "outputs": [],
   "source": [
    "#creating a dataframe from a list of lists\n",
    "df1=[\n",
    "    ['John', 25, 'New York'],\n",
    "    ['Alice', 30, 'San Francisco'],\n",
    "    ['Bob', 22, 'Los Angeles'],\n",
    "    ['Eva', 28, 'Chicago']\n",
    "]"
   ]
  },
  {
   "cell_type": "code",
   "execution_count": 17,
   "id": "674450c6",
   "metadata": {},
   "outputs": [],
   "source": [
    "columns=['Name','Age','City']\n"
   ]
  },
  {
   "cell_type": "code",
   "execution_count": 18,
   "id": "ba769022",
   "metadata": {},
   "outputs": [],
   "source": [
    "df2=pd.DataFrame(df1,columns=columns)"
   ]
  },
  {
   "cell_type": "code",
   "execution_count": 19,
   "id": "caa71c5b",
   "metadata": {},
   "outputs": [
    {
     "name": "stdout",
     "output_type": "stream",
     "text": [
      "    Name  Age           City\n",
      "0   John   25       New York\n",
      "1  Alice   30  San Francisco\n",
      "2    Bob   22    Los Angeles\n",
      "3    Eva   28        Chicago\n"
     ]
    }
   ],
   "source": [
    "print(df2)"
   ]
  },
  {
   "cell_type": "code",
   "execution_count": null,
   "id": "d2e28857",
   "metadata": {},
   "outputs": [],
   "source": []
  }
 ],
 "metadata": {
  "kernelspec": {
   "display_name": "Python 3 (ipykernel)",
   "language": "python",
   "name": "python3"
  },
  "language_info": {
   "codemirror_mode": {
    "name": "ipython",
    "version": 3
   },
   "file_extension": ".py",
   "mimetype": "text/x-python",
   "name": "python",
   "nbconvert_exporter": "python",
   "pygments_lexer": "ipython3",
   "version": "3.11.5"
  }
 },
 "nbformat": 4,
 "nbformat_minor": 5
}
