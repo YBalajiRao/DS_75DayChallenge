{
 "cells": [
  {
   "cell_type": "code",
   "execution_count": 6,
   "id": "9148f79d",
   "metadata": {},
   "outputs": [],
   "source": [
    "import cv2\n",
    "import imutils\n",
    "\n",
    "# Initializing the HOG person detector\n",
    "hog = cv2.HOGDescriptor()\n",
    "hog.setSVMDetector(cv2.HOGDescriptor_getDefaultPeopleDetector())\n",
    "\n",
    "# Reading the Image\n",
    "image = cv2.imread('img.png')\n",
    "\n",
    "if image is None:\n",
    "    print(\"Error: Image not found or cannot be read\")\n",
    "else:\n",
    "    # Resizing the Image\n",
    "    image = imutils.resize(image, width=min(400, image.shape[1]))\n",
    "\n",
    "    # Detecting all the regions in the Image that have pedestrians inside them\n",
    "    regions, _ = hog.detectMultiScale(image, \n",
    "                                       winStride=(4, 4),\n",
    "                                       padding=(4, 4),\n",
    "                                       scale=1.05)\n",
    "\n",
    "    # Drawing rectangles around detected pedestrians\n",
    "    for (x, y, w, h) in regions:\n",
    "        cv2.rectangle(image, (x, y), (x + w, y + h), (0, 0, 255), 2)\n",
    "\n",
    "    # Showing the output Image\n",
    "    cv2.imshow(\"Pedestrian Detection\", image)\n",
    "    cv2.waitKey(0)\n",
    "    cv2.destroyAllWindows()\n"
   ]
  },
  {
   "cell_type": "code",
   "execution_count": 7,
   "id": "d9bcb356",
   "metadata": {},
   "outputs": [],
   "source": [
    "import cv2\n",
    "import imutils\n",
    "\n",
    "# Initializing the HOG person detector\n",
    "hog = cv2.HOGDescriptor()\n",
    "hog.setSVMDetector(cv2.HOGDescriptor_getDefaultPeopleDetector())\n",
    "\n",
    "# Provide the correct path to your video file\n",
    "video_path = r\"C:\\Users\\91944\\Desktop\\75 Days hard CODING challenge\\vid.mp4.mov\"\n",
    "\n",
    "# Open the video file\n",
    "cap = cv2.VideoCapture(video_path)\n",
    "\n",
    "# Check if the video file opened successfully\n",
    "if not cap.isOpened():\n",
    "    print(\"Error: Unable to open video file\")\n",
    "else:\n",
    "    while cap.isOpened():\n",
    "        # Reading the video stream\n",
    "        ret, image = cap.read()\n",
    "        if ret:\n",
    "            # Resize the frame\n",
    "            image = imutils.resize(image, width=min(400, image.shape[1]))\n",
    "\n",
    "            # Detecting all the regions in the image that have pedestrians inside them\n",
    "            regions, _ = hog.detectMultiScale(image, \n",
    "                                               winStride=(4, 4),\n",
    "                                               padding=(4, 4),\n",
    "                                               scale=1.05)\n",
    "\n",
    "            # Drawing rectangles around detected pedestrians\n",
    "            for (x, y, w, h) in regions:\n",
    "                cv2.rectangle(image, (x, y), (x + w, y + h), (0, 0, 255), 2)\n",
    "\n",
    "            # Showing the output image\n",
    "            cv2.imshow(\"Pedestrian Detection\", image)\n",
    "            \n",
    "            # Check if the user pressed 'q' to quit\n",
    "            if cv2.waitKey(25) & 0xFF == ord('q'):\n",
    "                break\n",
    "        else:\n",
    "            break\n",
    "\n",
    "    # Release the video capture object\n",
    "    cap.release()\n",
    "\n",
    "    # Close all OpenCV windows\n",
    "    cv2.destroyAllWindows()\n"
   ]
  },
  {
   "cell_type": "code",
   "execution_count": 7,
   "id": "f8213d9d",
   "metadata": {},
   "outputs": [],
   "source": [
    "import cv2\n",
    "import imutils\n",
    "\n",
    "# Initializing the HOG person detector\n",
    "hog = cv2.HOGDescriptor()\n",
    "hog.setSVMDetector(cv2.HOGDescriptor_getDefaultPeopleDetector())\n",
    "\n",
    "cap = cv2.VideoCapture(\"C:\\\\Users\\\\91944\\\\Desktop\\\\75 Days hard CODING challenge\\\\video.mp4\")\n",
    "\n",
    "while cap.isOpened():\n",
    "    # Reading the video stream\n",
    "    ret, image = cap.read()\n",
    "    if ret:\n",
    "        image = imutils.resize(image, \n",
    "                               width=min(400, image.shape[1]))\n",
    "\n",
    "        # Detecting all the regions \n",
    "        # in the Image that have \n",
    "        # pedestrians inside it\n",
    "        (regions, _) = hog.detectMultiScale(image,\n",
    "                                            winStride=(4, 4),\n",
    "                                            padding=(4, 4),\n",
    "                                            scale=1.05)\n",
    "\n",
    "        # Drawing the regions in the \n",
    "        # Image\n",
    "        for (x, y, w, h) in regions:\n",
    "            cv2.rectangle(image, (x, y),\n",
    "                          (x + w, y + h), \n",
    "                          (0, 0, 255), 2)\n",
    "\n",
    "        # Showing the output Image\n",
    "        cv2.imshow(\"Image\", image)\n",
    "        if cv2.waitKey(25) & 0xFF == ord('q'):\n",
    "            break\n",
    "    else:\n",
    "        break\n",
    "\n",
    "cap.release()\n",
    "cv2.destroyAllWindows()\n"
   ]
  },
  {
   "cell_type": "code",
   "execution_count": 6,
   "id": "fbf20aee",
   "metadata": {},
   "outputs": [
    {
     "name": "stdout",
     "output_type": "stream",
     "text": [
      "a\n",
      "b\n",
      "c\n",
      "1\n",
      "2\n",
      "3\n",
      "4\n",
      "1.4\n",
      "1.3\n",
      "464\n",
      "True\n"
     ]
    }
   ],
   "source": [
    "names=['a','b','c',1,2,3,4,1.4,1.3,464, True]\n",
    "for i in names:\n",
    "    print(i)\n"
   ]
  },
  {
   "cell_type": "code",
   "execution_count": 11,
   "id": "c06b7d63",
   "metadata": {},
   "outputs": [
    {
     "name": "stdout",
     "output_type": "stream",
     "text": [
      "['a', 'b', 'c', 1, 2, 3, 4, 1.4, 1.3]\n"
     ]
    }
   ],
   "source": [
    "print(names[:])\n"
   ]
  },
  {
   "cell_type": "code",
   "execution_count": 17,
   "id": "cd2a76d8",
   "metadata": {},
   "outputs": [],
   "source": [
    "jamal=['a','b','c',1,2,3,4,1.4,1.3,464][::-1]"
   ]
  },
  {
   "cell_type": "code",
   "execution_count": 18,
   "id": "747666da",
   "metadata": {},
   "outputs": [
    {
     "name": "stdout",
     "output_type": "stream",
     "text": [
      "[464, 1.3, 1.4, 4, 3, 2, 1, 'c', 'b', 'a']\n"
     ]
    }
   ],
   "source": [
    "print(jamal)"
   ]
  },
  {
   "cell_type": "code",
   "execution_count": 19,
   "id": "c77277c5",
   "metadata": {},
   "outputs": [
    {
     "name": "stdout",
     "output_type": "stream",
     "text": [
      "[464, 1.3, 1.4, 4, 3, 2, 1, 'c', 'b', 'a']\n"
     ]
    }
   ],
   "source": [
    "ja=['a','b','c',1,2,3,4,1.4,1.3,464]\n",
    "reversed_elements=ja[::-1]\n",
    "print(reversed_elements)"
   ]
  },
  {
   "cell_type": "code",
   "execution_count": 22,
   "id": "6568c0f9",
   "metadata": {},
   "outputs": [
    {
     "name": "stdout",
     "output_type": "stream",
     "text": [
      "[464, 1.3, 1.4, 4, 3, 2, 1, 'c', 'b', 'a']\n"
     ]
    }
   ],
   "source": [
    "j=['a','b','c',1,2,3,4,1.4,1.3,464]\n",
    "b=j.reverse()\n",
    "print(j)"
   ]
  },
  {
   "cell_type": "code",
   "execution_count": 23,
   "id": "694fd75c",
   "metadata": {},
   "outputs": [],
   "source": [
    "a=[1,2,3,4,5]\n",
    "b=[6,7,8,9,10]"
   ]
  },
  {
   "cell_type": "code",
   "execution_count": 81,
   "id": "73a0c397",
   "metadata": {},
   "outputs": [
    {
     "name": "stdout",
     "output_type": "stream",
     "text": [
      "Unexpected exception formatting exception. Falling back to standard exception\n"
     ]
    },
    {
     "name": "stderr",
     "output_type": "stream",
     "text": [
      "Traceback (most recent call last):\n",
      "  File \"C:\\Users\\91944\\AppData\\Roaming\\Python\\Python311\\site-packages\\IPython\\core\\interactiveshell.py\", line 3508, in run_code\n",
      "    exec(code_obj, self.user_global_ns, self.user_ns)\n",
      "  File \"C:\\Users\\91944\\AppData\\Local\\Temp\\ipykernel_12244\\1249512285.py\", line 1, in <module>\n",
      "    n\n",
      "NameError: name 'n' is not defined\n",
      "\n",
      "During handling of the above exception, another exception occurred:\n",
      "\n",
      "Traceback (most recent call last):\n",
      "  File \"C:\\Users\\91944\\AppData\\Roaming\\Python\\Python311\\site-packages\\IPython\\core\\interactiveshell.py\", line 2105, in showtraceback\n",
      "    stb = self.InteractiveTB.structured_traceback(\n",
      "          ^^^^^^^^^^^^^^^^^^^^^^^^^^^^^^^^^^^^^^^^\n",
      "  File \"C:\\Users\\91944\\AppData\\Roaming\\Python\\Python311\\site-packages\\IPython\\core\\ultratb.py\", line 1428, in structured_traceback\n",
      "    return FormattedTB.structured_traceback(\n",
      "           ^^^^^^^^^^^^^^^^^^^^^^^^^^^^^^^^^\n",
      "  File \"C:\\Users\\91944\\AppData\\Roaming\\Python\\Python311\\site-packages\\IPython\\core\\ultratb.py\", line 1319, in structured_traceback\n",
      "    return VerboseTB.structured_traceback(\n",
      "           ^^^^^^^^^^^^^^^^^^^^^^^^^^^^^^^\n",
      "  File \"C:\\Users\\91944\\AppData\\Roaming\\Python\\Python311\\site-packages\\IPython\\core\\ultratb.py\", line 1172, in structured_traceback\n",
      "    formatted_exception = self.format_exception_as_a_whole(etype, evalue, etb, number_of_lines_of_context,\n",
      "                          ^^^^^^^^^^^^^^^^^^^^^^^^^^^^^^^^^^^^^^^^^^^^^^^^^^^^^^^^^^^^^^^^^^^^^^^^^^^^^^^^\n",
      "  File \"C:\\Users\\91944\\AppData\\Roaming\\Python\\Python311\\site-packages\\IPython\\core\\ultratb.py\", line 1087, in format_exception_as_a_whole\n",
      "    frames.append(self.format_record(record))\n",
      "                  ^^^^^^^^^^^^^^^^^^^^^^^^^^\n",
      "  File \"C:\\Users\\91944\\AppData\\Roaming\\Python\\Python311\\site-packages\\IPython\\core\\ultratb.py\", line 969, in format_record\n",
      "    frame_info.lines, Colors, self.has_colors, lvals\n",
      "    ^^^^^^^^^^^^^^^^\n",
      "  File \"C:\\Users\\91944\\AppData\\Roaming\\Python\\Python311\\site-packages\\IPython\\core\\ultratb.py\", line 792, in lines\n",
      "    return self._sd.lines\n",
      "           ^^^^^^^^^^^^^^\n",
      "  File \"C:\\Users\\91944\\AppData\\Roaming\\Python\\Python311\\site-packages\\stack_data\\utils.py\", line 144, in cached_property_wrapper\n",
      "    value = obj.__dict__[self.func.__name__] = self.func(obj)\n",
      "                                               ^^^^^^^^^^^^^^\n",
      "  File \"C:\\Users\\91944\\AppData\\Roaming\\Python\\Python311\\site-packages\\stack_data\\core.py\", line 734, in lines\n",
      "    pieces = self.included_pieces\n",
      "             ^^^^^^^^^^^^^^^^^^^^\n",
      "  File \"C:\\Users\\91944\\AppData\\Roaming\\Python\\Python311\\site-packages\\stack_data\\utils.py\", line 144, in cached_property_wrapper\n",
      "    value = obj.__dict__[self.func.__name__] = self.func(obj)\n",
      "                                               ^^^^^^^^^^^^^^\n",
      "  File \"C:\\Users\\91944\\AppData\\Roaming\\Python\\Python311\\site-packages\\stack_data\\core.py\", line 677, in included_pieces\n",
      "    scope_pieces = self.scope_pieces\n",
      "                   ^^^^^^^^^^^^^^^^^\n",
      "  File \"C:\\Users\\91944\\AppData\\Roaming\\Python\\Python311\\site-packages\\stack_data\\utils.py\", line 144, in cached_property_wrapper\n",
      "    value = obj.__dict__[self.func.__name__] = self.func(obj)\n",
      "                                               ^^^^^^^^^^^^^^\n",
      "  File \"C:\\Users\\91944\\AppData\\Roaming\\Python\\Python311\\site-packages\\stack_data\\core.py\", line 614, in scope_pieces\n",
      "    scope_start, scope_end = self.source.line_range(self.scope)\n",
      "                             ^^^^^^^^^^^^^^^^^^^^^^^^^^^^^^^^^^\n",
      "  File \"C:\\Users\\91944\\AppData\\Roaming\\Python\\Python311\\site-packages\\stack_data\\core.py\", line 178, in line_range\n",
      "    return line_range(self.asttext(), node)\n",
      "                      ^^^^^^^^^^^^\n",
      "AttributeError: 'Source' object has no attribute 'asttext'\n"
     ]
    }
   ],
   "source": [
    "n"
   ]
  },
  {
   "cell_type": "code",
   "execution_count": 102,
   "id": "f097f722",
   "metadata": {},
   "outputs": [],
   "source": [
    "a=['suresh','naresh','balaji',99,108,4584359,5959,445,1,3,4,4,4,4,4,4,4,4,4,5,6,7]"
   ]
  },
  {
   "cell_type": "code",
   "execution_count": 89,
   "id": "3c7756e8",
   "metadata": {},
   "outputs": [],
   "source": [
    "a.remove(1)"
   ]
  },
  {
   "cell_type": "code",
   "execution_count": 90,
   "id": "43e17b8a",
   "metadata": {},
   "outputs": [
    {
     "data": {
      "text/plain": [
       "[3, 4, 4, 4, 4, 4, 4, 4, 4, 5, 6, 7]"
      ]
     },
     "execution_count": 90,
     "metadata": {},
     "output_type": "execute_result"
    }
   ],
   "source": [
    "a"
   ]
  },
  {
   "cell_type": "code",
   "execution_count": 91,
   "id": "b84c1500",
   "metadata": {},
   "outputs": [
    {
     "data": {
      "text/plain": [
       "7"
      ]
     },
     "execution_count": 91,
     "metadata": {},
     "output_type": "execute_result"
    }
   ],
   "source": [
    "a.pop()"
   ]
  },
  {
   "cell_type": "code",
   "execution_count": 94,
   "id": "56c72a0a",
   "metadata": {},
   "outputs": [
    {
     "data": {
      "text/plain": [
       "[4, 4, 4, 4, 4, 4, 4, 4, 5, 6]"
      ]
     },
     "execution_count": 94,
     "metadata": {},
     "output_type": "execute_result"
    }
   ],
   "source": [
    "a"
   ]
  },
  {
   "cell_type": "code",
   "execution_count": 95,
   "id": "1eb92e04",
   "metadata": {},
   "outputs": [
    {
     "name": "stdout",
     "output_type": "stream",
     "text": [
      "10\n"
     ]
    }
   ],
   "source": [
    "print(len(a))"
   ]
  },
  {
   "cell_type": "code",
   "execution_count": 97,
   "id": "ca692dab",
   "metadata": {},
   "outputs": [
    {
     "data": {
      "text/plain": [
       "5"
      ]
     },
     "execution_count": 97,
     "metadata": {},
     "output_type": "execute_result"
    }
   ],
   "source": [
    "a.pop(8)"
   ]
  },
  {
   "cell_type": "code",
   "execution_count": 98,
   "id": "e41714aa",
   "metadata": {},
   "outputs": [
    {
     "data": {
      "text/plain": [
       "[4, 4, 4, 4, 4, 4, 4, 4, 6]"
      ]
     },
     "execution_count": 98,
     "metadata": {},
     "output_type": "execute_result"
    }
   ],
   "source": [
    "a"
   ]
  },
  {
   "cell_type": "code",
   "execution_count": 101,
   "id": "d71e1f2b",
   "metadata": {},
   "outputs": [
    {
     "name": "stdout",
     "output_type": "stream",
     "text": [
      "8\n"
     ]
    }
   ],
   "source": [
    "c=a.count(4)\n",
    "print(c)"
   ]
  },
  {
   "cell_type": "code",
   "execution_count": 103,
   "id": "46762b34",
   "metadata": {},
   "outputs": [
    {
     "data": {
      "text/plain": [
       "['suresh',\n",
       " 'naresh',\n",
       " 'balaji',\n",
       " 99,\n",
       " 108,\n",
       " 4584359,\n",
       " 5959,\n",
       " 445,\n",
       " 1,\n",
       " 3,\n",
       " 4,\n",
       " 4,\n",
       " 4,\n",
       " 4,\n",
       " 4,\n",
       " 4,\n",
       " 4,\n",
       " 4,\n",
       " 4,\n",
       " 5,\n",
       " 6,\n",
       " 7]"
      ]
     },
     "execution_count": 103,
     "metadata": {},
     "output_type": "execute_result"
    }
   ],
   "source": [
    "a"
   ]
  },
  {
   "cell_type": "code",
   "execution_count": 106,
   "id": "41d13f0f",
   "metadata": {},
   "outputs": [],
   "source": [
    "r=[5,7,2,1,0,22]"
   ]
  },
  {
   "cell_type": "code",
   "execution_count": 115,
   "id": "78621d35",
   "metadata": {},
   "outputs": [],
   "source": [
    "c=r.sort(reverse=True)"
   ]
  },
  {
   "cell_type": "code",
   "execution_count": 116,
   "id": "5d4df76c",
   "metadata": {},
   "outputs": [
    {
     "data": {
      "text/plain": [
       "[22, 7, 5, 2, 1, 0]"
      ]
     },
     "execution_count": 116,
     "metadata": {},
     "output_type": "execute_result"
    }
   ],
   "source": [
    "r"
   ]
  },
  {
   "cell_type": "code",
   "execution_count": 137,
   "id": "7470c5d4",
   "metadata": {},
   "outputs": [
    {
     "name": "stdout",
     "output_type": "stream",
     "text": [
      "55\n"
     ]
    }
   ],
   "source": [
    "t=[1,2,3,4,5,6,7,8,9,10]\n",
    "storing=sum(t)\n",
    "print(storing)\n",
    "    "
   ]
  },
  {
   "cell_type": "code",
   "execution_count": 140,
   "id": "f0015dd1",
   "metadata": {},
   "outputs": [
    {
     "name": "stdout",
     "output_type": "stream",
     "text": [
      "55\n"
     ]
    }
   ],
   "source": [
    "store=[]\n",
    "for i in t:\n",
    "    store.append(i)\n",
    "c=sum(store)\n",
    "print(c)"
   ]
  },
  {
   "cell_type": "code",
   "execution_count": 142,
   "id": "563876d0",
   "metadata": {},
   "outputs": [
    {
     "name": "stdout",
     "output_type": "stream",
     "text": [
      "55\n"
     ]
    }
   ],
   "source": [
    "t = [1, 2, 3, 4, 5, 6, 7, 8, 9, 10]\n",
    "total = 0  # Initialize a variable to store the sum\n",
    "for i in t:\n",
    "    total += i  # Add each element of the list to the total\n",
    "\n",
    "print(total)\n"
   ]
  },
  {
   "cell_type": "code",
   "execution_count": 144,
   "id": "ad51dd61",
   "metadata": {},
   "outputs": [
    {
     "data": {
      "text/plain": [
       "[1, 2, 3, 4, 5, 6, 7, 8, 9, 10]"
      ]
     },
     "execution_count": 144,
     "metadata": {},
     "output_type": "execute_result"
    }
   ],
   "source": [
    "t"
   ]
  },
  {
   "cell_type": "code",
   "execution_count": 147,
   "id": "4a2aa6ee",
   "metadata": {},
   "outputs": [],
   "source": [
    "c=min(t)\n"
   ]
  },
  {
   "cell_type": "code",
   "execution_count": 148,
   "id": "55cdd2fb",
   "metadata": {},
   "outputs": [
    {
     "name": "stdout",
     "output_type": "stream",
     "text": [
      "1\n"
     ]
    }
   ],
   "source": [
    "print(c)\n",
    "\n"
   ]
  },
  {
   "cell_type": "code",
   "execution_count": 149,
   "id": "90e7345a",
   "metadata": {},
   "outputs": [
    {
     "name": "stdout",
     "output_type": "stream",
     "text": [
      "10\n"
     ]
    }
   ],
   "source": [
    "f=max(t)\n",
    "print(f)"
   ]
  },
  {
   "cell_type": "code",
   "execution_count": 150,
   "id": "8cc9fd72",
   "metadata": {},
   "outputs": [
    {
     "data": {
      "text/plain": [
       "[1, 2, 3, 4, 5, 6, 7, 8, 9, 10]"
      ]
     },
     "execution_count": 150,
     "metadata": {},
     "output_type": "execute_result"
    }
   ],
   "source": [
    "t"
   ]
  },
  {
   "cell_type": "code",
   "execution_count": 158,
   "id": "9e8bc583",
   "metadata": {},
   "outputs": [
    {
     "name": "stdout",
     "output_type": "stream",
     "text": [
      "[2, 4, 6, 8, 10]\n"
     ]
    }
   ],
   "source": [
    "r=[]\n",
    "for i in t:\n",
    "    if i%2==0:\n",
    "        r.append(i)\n",
    "print(r)"
   ]
  },
  {
   "cell_type": "code",
   "execution_count": 155,
   "id": "9a900535",
   "metadata": {},
   "outputs": [
    {
     "name": "stdout",
     "output_type": "stream",
     "text": [
      "30\n"
     ]
    }
   ],
   "source": [
    "p=0\n",
    "for i in t:\n",
    "    if i%2==0:\n",
    "        p+=i\n",
    "print(p)"
   ]
  },
  {
   "cell_type": "code",
   "execution_count": 160,
   "id": "5640e36f",
   "metadata": {},
   "outputs": [],
   "source": [
    "k=[1,1,1,1,1,1,1,1,2,2,2,2,2,2, 2, 3, 4, 5, 6, 7, 8, 9, 10]"
   ]
  },
  {
   "cell_type": "code",
   "execution_count": 161,
   "id": "e44cf70c",
   "metadata": {},
   "outputs": [
    {
     "data": {
      "text/plain": [
       "[1, 1, 1, 1, 1, 1, 1, 1, 2, 2, 2, 2, 2, 2, 2, 3, 4, 5, 6, 7, 8, 9, 10]"
      ]
     },
     "execution_count": 161,
     "metadata": {},
     "output_type": "execute_result"
    }
   ],
   "source": [
    "k"
   ]
  },
  {
   "cell_type": "code",
   "execution_count": 167,
   "id": "5ecc0cdf",
   "metadata": {},
   "outputs": [
    {
     "name": "stdout",
     "output_type": "stream",
     "text": [
      "<class 'set'>\n"
     ]
    }
   ],
   "source": [
    "a=set()\n",
    "print(type(a))"
   ]
  },
  {
   "cell_type": "code",
   "execution_count": 169,
   "id": "cfc90beb",
   "metadata": {},
   "outputs": [
    {
     "name": "stdout",
     "output_type": "stream",
     "text": [
      "<class 'dict'>\n"
     ]
    }
   ],
   "source": [
    "u=dict()\n",
    "print(type(u))"
   ]
  },
  {
   "cell_type": "code",
   "execution_count": 174,
   "id": "594c683b",
   "metadata": {},
   "outputs": [
    {
     "name": "stdout",
     "output_type": "stream",
     "text": [
      "{1, 2, 3}\n",
      "[1, 2, 3]\n"
     ]
    }
   ],
   "source": [
    "a=1,2,3\n",
    "b=list(a)\n",
    "v=set(a)\n",
    "print(v)\n",
    "print(b)"
   ]
  },
  {
   "cell_type": "code",
   "execution_count": 179,
   "id": "2f935c73",
   "metadata": {},
   "outputs": [
    {
     "name": "stdout",
     "output_type": "stream",
     "text": [
      "{'name': 'balaji', 'age': '25', 'city': 'USA'}\n"
     ]
    }
   ],
   "source": [
    "p={'name':'balaji','age':'25','city':'USA'}\n",
    "print(p)"
   ]
  },
  {
   "cell_type": "code",
   "execution_count": 180,
   "id": "48cb97d0",
   "metadata": {},
   "outputs": [
    {
     "data": {
      "text/plain": [
       "dict_keys(['name', 'age', 'city'])"
      ]
     },
     "execution_count": 180,
     "metadata": {},
     "output_type": "execute_result"
    }
   ],
   "source": [
    "p.keys()"
   ]
  },
  {
   "cell_type": "code",
   "execution_count": 181,
   "id": "9e1fec2f",
   "metadata": {},
   "outputs": [
    {
     "data": {
      "text/plain": [
       "dict_values(['balaji', '25', 'USA'])"
      ]
     },
     "execution_count": 181,
     "metadata": {},
     "output_type": "execute_result"
    }
   ],
   "source": [
    "p.values()"
   ]
  },
  {
   "cell_type": "code",
   "execution_count": 182,
   "id": "5a787311",
   "metadata": {},
   "outputs": [
    {
     "name": "stdout",
     "output_type": "stream",
     "text": [
      "{1, 2, 3, 4, 5, 6}\n"
     ]
    }
   ],
   "source": [
    "a=[1,2,3,4,5,5,6]\n",
    "print(set(a))"
   ]
  },
  {
   "cell_type": "code",
   "execution_count": 183,
   "id": "fb539976",
   "metadata": {},
   "outputs": [
    {
     "data": {
      "text/plain": [
       "[1, 1, 1, 1, 1, 1, 1, 1, 2, 2, 2, 2, 2, 2, 2, 3, 4, 5, 6, 7, 8, 9, 10]"
      ]
     },
     "execution_count": 183,
     "metadata": {},
     "output_type": "execute_result"
    }
   ],
   "source": [
    "k"
   ]
  },
  {
   "cell_type": "code",
   "execution_count": 185,
   "id": "2cfed8bc",
   "metadata": {},
   "outputs": [
    {
     "name": "stdout",
     "output_type": "stream",
     "text": [
      "[1, 2, 3, 4, 5, 6, 7, 8, 9, 10]\n"
     ]
    }
   ],
   "source": [
    "y=set(k)\n",
    "print(list(y))"
   ]
  },
  {
   "cell_type": "code",
   "execution_count": 186,
   "id": "0e79a920",
   "metadata": {},
   "outputs": [],
   "source": [
    "a=[3,4,5,6,7]\n",
    "b=[5,8,3,1,6]"
   ]
  },
  {
   "cell_type": "code",
   "execution_count": 188,
   "id": "317d569f",
   "metadata": {},
   "outputs": [
    {
     "name": "stdout",
     "output_type": "stream",
     "text": [
      "[3, 4, 5, 6, 7, 5, 8, 3, 1, 6]\n"
     ]
    }
   ],
   "source": [
    "c=a+b\n",
    "print(c)"
   ]
  },
  {
   "cell_type": "code",
   "execution_count": 189,
   "id": "dd8552ce",
   "metadata": {},
   "outputs": [
    {
     "data": {
      "text/plain": [
       "[1, 1, 1, 1, 1, 1, 1, 1, 2, 2, 2, 2, 2, 2, 2, 3, 4, 5, 6, 7, 8, 9, 10]"
      ]
     },
     "execution_count": 189,
     "metadata": {},
     "output_type": "execute_result"
    }
   ],
   "source": [
    "k"
   ]
  },
  {
   "cell_type": "code",
   "execution_count": 191,
   "id": "16479a15",
   "metadata": {},
   "outputs": [
    {
     "name": "stdout",
     "output_type": "stream",
     "text": [
      "[1, 1, 1, 1, 1, 1, 1, 1, 2, 2, 2, 2, 2, 2, 2, 3, 4, 5, 6, 7, 8, 9, 10]\n"
     ]
    }
   ],
   "source": [
    "c=k.sort()\n",
    "print(k)"
   ]
  },
  {
   "cell_type": "code",
   "execution_count": 192,
   "id": "f76daef6",
   "metadata": {},
   "outputs": [
    {
     "data": {
      "text/plain": [
       "[1, 1, 1, 1, 1, 1, 1, 1, 2, 2, 2, 2, 2, 2, 2, 3, 4, 5, 6, 7, 8, 9, 10]"
      ]
     },
     "execution_count": 192,
     "metadata": {},
     "output_type": "execute_result"
    }
   ],
   "source": [
    "k"
   ]
  },
  {
   "cell_type": "code",
   "execution_count": 194,
   "id": "f649aef9",
   "metadata": {},
   "outputs": [
    {
     "data": {
      "text/plain": [
       "8"
      ]
     },
     "execution_count": 194,
     "metadata": {},
     "output_type": "execute_result"
    }
   ],
   "source": [
    "k.count(1)"
   ]
  },
  {
   "cell_type": "code",
   "execution_count": 195,
   "id": "4677bdf5",
   "metadata": {},
   "outputs": [
    {
     "data": {
      "text/plain": [
       "[1, 2, 3, 4, 5, 6, 7, 8, 9, 10]"
      ]
     },
     "execution_count": 195,
     "metadata": {},
     "output_type": "execute_result"
    }
   ],
   "source": [
    "t"
   ]
  },
  {
   "cell_type": "code",
   "execution_count": 196,
   "id": "73d35426",
   "metadata": {},
   "outputs": [
    {
     "name": "stdout",
     "output_type": "stream",
     "text": [
      "Unexpected exception formatting exception. Falling back to standard exception\n"
     ]
    },
    {
     "name": "stderr",
     "output_type": "stream",
     "text": [
      "Traceback (most recent call last):\n",
      "  File \"C:\\Users\\91944\\AppData\\Roaming\\Python\\Python311\\site-packages\\IPython\\core\\interactiveshell.py\", line 3508, in run_code\n",
      "    exec(code_obj, self.user_global_ns, self.user_ns)\n",
      "  File \"C:\\Users\\91944\\AppData\\Local\\Temp\\ipykernel_12244\\24936541.py\", line 2, in <module>\n",
      "    if len(i)==0:\n",
      "       ^^^^^^\n",
      "TypeError: object of type 'int' has no len()\n",
      "\n",
      "During handling of the above exception, another exception occurred:\n",
      "\n",
      "Traceback (most recent call last):\n",
      "  File \"C:\\Users\\91944\\AppData\\Roaming\\Python\\Python311\\site-packages\\IPython\\core\\interactiveshell.py\", line 2105, in showtraceback\n",
      "    stb = self.InteractiveTB.structured_traceback(\n",
      "          ^^^^^^^^^^^^^^^^^^^^^^^^^^^^^^^^^^^^^^^^\n",
      "  File \"C:\\Users\\91944\\AppData\\Roaming\\Python\\Python311\\site-packages\\IPython\\core\\ultratb.py\", line 1428, in structured_traceback\n",
      "    return FormattedTB.structured_traceback(\n",
      "           ^^^^^^^^^^^^^^^^^^^^^^^^^^^^^^^^^\n",
      "  File \"C:\\Users\\91944\\AppData\\Roaming\\Python\\Python311\\site-packages\\IPython\\core\\ultratb.py\", line 1319, in structured_traceback\n",
      "    return VerboseTB.structured_traceback(\n",
      "           ^^^^^^^^^^^^^^^^^^^^^^^^^^^^^^^\n",
      "  File \"C:\\Users\\91944\\AppData\\Roaming\\Python\\Python311\\site-packages\\IPython\\core\\ultratb.py\", line 1172, in structured_traceback\n",
      "    formatted_exception = self.format_exception_as_a_whole(etype, evalue, etb, number_of_lines_of_context,\n",
      "                          ^^^^^^^^^^^^^^^^^^^^^^^^^^^^^^^^^^^^^^^^^^^^^^^^^^^^^^^^^^^^^^^^^^^^^^^^^^^^^^^^\n",
      "  File \"C:\\Users\\91944\\AppData\\Roaming\\Python\\Python311\\site-packages\\IPython\\core\\ultratb.py\", line 1087, in format_exception_as_a_whole\n",
      "    frames.append(self.format_record(record))\n",
      "                  ^^^^^^^^^^^^^^^^^^^^^^^^^^\n",
      "  File \"C:\\Users\\91944\\AppData\\Roaming\\Python\\Python311\\site-packages\\IPython\\core\\ultratb.py\", line 969, in format_record\n",
      "    frame_info.lines, Colors, self.has_colors, lvals\n",
      "    ^^^^^^^^^^^^^^^^\n",
      "  File \"C:\\Users\\91944\\AppData\\Roaming\\Python\\Python311\\site-packages\\IPython\\core\\ultratb.py\", line 792, in lines\n",
      "    return self._sd.lines\n",
      "           ^^^^^^^^^^^^^^\n",
      "  File \"C:\\Users\\91944\\AppData\\Roaming\\Python\\Python311\\site-packages\\stack_data\\utils.py\", line 144, in cached_property_wrapper\n",
      "    value = obj.__dict__[self.func.__name__] = self.func(obj)\n",
      "                                               ^^^^^^^^^^^^^^\n",
      "  File \"C:\\Users\\91944\\AppData\\Roaming\\Python\\Python311\\site-packages\\stack_data\\core.py\", line 734, in lines\n",
      "    pieces = self.included_pieces\n",
      "             ^^^^^^^^^^^^^^^^^^^^\n",
      "  File \"C:\\Users\\91944\\AppData\\Roaming\\Python\\Python311\\site-packages\\stack_data\\utils.py\", line 144, in cached_property_wrapper\n",
      "    value = obj.__dict__[self.func.__name__] = self.func(obj)\n",
      "                                               ^^^^^^^^^^^^^^\n",
      "  File \"C:\\Users\\91944\\AppData\\Roaming\\Python\\Python311\\site-packages\\stack_data\\core.py\", line 677, in included_pieces\n",
      "    scope_pieces = self.scope_pieces\n",
      "                   ^^^^^^^^^^^^^^^^^\n",
      "  File \"C:\\Users\\91944\\AppData\\Roaming\\Python\\Python311\\site-packages\\stack_data\\utils.py\", line 144, in cached_property_wrapper\n",
      "    value = obj.__dict__[self.func.__name__] = self.func(obj)\n",
      "                                               ^^^^^^^^^^^^^^\n",
      "  File \"C:\\Users\\91944\\AppData\\Roaming\\Python\\Python311\\site-packages\\stack_data\\core.py\", line 614, in scope_pieces\n",
      "    scope_start, scope_end = self.source.line_range(self.scope)\n",
      "                             ^^^^^^^^^^^^^^^^^^^^^^^^^^^^^^^^^^\n",
      "  File \"C:\\Users\\91944\\AppData\\Roaming\\Python\\Python311\\site-packages\\stack_data\\core.py\", line 178, in line_range\n",
      "    return line_range(self.asttext(), node)\n",
      "                      ^^^^^^^^^^^^\n",
      "AttributeError: 'Source' object has no attribute 'asttext'\n"
     ]
    }
   ],
   "source": [
    "i"
   ]
  },
  {
   "cell_type": "code",
   "execution_count": null,
   "id": "38d6afdb",
   "metadata": {},
   "outputs": [],
   "source": []
  },
  {
   "cell_type": "code",
   "execution_count": 82,
   "id": "25a2471d",
   "metadata": {},
   "outputs": [],
   "source": [
    "na_manasu.append('harish')"
   ]
  },
  {
   "cell_type": "code",
   "execution_count": 72,
   "id": "7ca2d843",
   "metadata": {},
   "outputs": [],
   "source": [
    "na_manasu.insert(1,'mango')"
   ]
  },
  {
   "cell_type": "code",
   "execution_count": 74,
   "id": "f5c701e9",
   "metadata": {},
   "outputs": [
    {
     "data": {
      "text/plain": [
       "['jamal',\n",
       " 'mango',\n",
       " 'jimmmy',\n",
       " 'balaji',\n",
       " 'inkbottle',\n",
       " 'harish',\n",
       " 'rahul',\n",
       " 'maguva',\n",
       " 'kajal',\n",
       " ['rahul', 'maguva', 'kajal'],\n",
       " 'rahul',\n",
       " 'maguva',\n",
       " 'kajal',\n",
       " 'rahul',\n",
       " 'maguva',\n",
       " 'kajal',\n",
       " 'rahul',\n",
       " 'maguva',\n",
       " 'kajal',\n",
       " 'rahul',\n",
       " 'maguva',\n",
       " 'kajal',\n",
       " 'rahul',\n",
       " 'maguva',\n",
       " 'kajal',\n",
       " 'rahul',\n",
       " 'maguva',\n",
       " 'kajal',\n",
       " 'rahul',\n",
       " 'maguva',\n",
       " 'kajal',\n",
       " 'rahul',\n",
       " 'maguva',\n",
       " 'kajal',\n",
       " 'harish',\n",
       " 'harish']"
      ]
     },
     "execution_count": 74,
     "metadata": {},
     "output_type": "execute_result"
    }
   ],
   "source": [
    "na_manasu"
   ]
  },
  {
   "cell_type": "code",
   "execution_count": 75,
   "id": "dba7d886",
   "metadata": {},
   "outputs": [
    {
     "data": {
      "text/plain": [
       "['jamal',\n",
       " 'mango',\n",
       " 'jimmmy',\n",
       " 'balaji',\n",
       " 'inkbottle',\n",
       " 'harish',\n",
       " 'rahul',\n",
       " 'maguva',\n",
       " 'kajal',\n",
       " ['rahul', 'maguva', 'kajal'],\n",
       " 'rahul',\n",
       " 'maguva',\n",
       " 'kajal',\n",
       " 'rahul',\n",
       " 'maguva',\n",
       " 'kajal',\n",
       " 'rahul',\n",
       " 'maguva',\n",
       " 'kajal',\n",
       " 'rahul',\n",
       " 'maguva',\n",
       " 'kajal',\n",
       " 'rahul',\n",
       " 'maguva',\n",
       " 'kajal',\n",
       " 'rahul',\n",
       " 'maguva',\n",
       " 'kajal',\n",
       " 'rahul',\n",
       " 'maguva',\n",
       " 'kajal',\n",
       " 'rahul',\n",
       " 'maguva',\n",
       " 'kajal',\n",
       " 'harish',\n",
       " 'harish']"
      ]
     },
     "execution_count": 75,
     "metadata": {},
     "output_type": "execute_result"
    }
   ],
   "source": [
    "na_manasu"
   ]
  },
  {
   "cell_type": "code",
   "execution_count": 80,
   "id": "710e7d13",
   "metadata": {},
   "outputs": [],
   "source": [
    "na_manasu.remove('kajal')"
   ]
  },
  {
   "cell_type": "code",
   "execution_count": 78,
   "id": "57af6673",
   "metadata": {},
   "outputs": [
    {
     "data": {
      "text/plain": [
       "['mango',\n",
       " 'jimmmy',\n",
       " 'balaji',\n",
       " 'inkbottle',\n",
       " 'harish',\n",
       " 'rahul',\n",
       " 'maguva',\n",
       " 'kajal',\n",
       " ['rahul', 'maguva', 'kajal'],\n",
       " 'rahul',\n",
       " 'maguva',\n",
       " 'kajal',\n",
       " 'rahul',\n",
       " 'maguva',\n",
       " 'kajal',\n",
       " 'rahul',\n",
       " 'maguva',\n",
       " 'kajal',\n",
       " 'rahul',\n",
       " 'maguva',\n",
       " 'kajal',\n",
       " 'rahul',\n",
       " 'maguva',\n",
       " 'kajal',\n",
       " 'rahul',\n",
       " 'maguva',\n",
       " 'kajal',\n",
       " 'rahul',\n",
       " 'maguva',\n",
       " 'kajal',\n",
       " 'rahul',\n",
       " 'maguva',\n",
       " 'kajal',\n",
       " 'harish',\n",
       " 'harish']"
      ]
     },
     "execution_count": 78,
     "metadata": {},
     "output_type": "execute_result"
    }
   ],
   "source": [
    "na_manasu"
   ]
  },
  {
   "cell_type": "code",
   "execution_count": null,
   "id": "3b15e370",
   "metadata": {},
   "outputs": [],
   "source": []
  },
  {
   "cell_type": "code",
   "execution_count": null,
   "id": "eeb7aceb",
   "metadata": {},
   "outputs": [],
   "source": []
  },
  {
   "cell_type": "code",
   "execution_count": null,
   "id": "6df8befe",
   "metadata": {},
   "outputs": [],
   "source": []
  },
  {
   "cell_type": "code",
   "execution_count": null,
   "id": "6b79b883",
   "metadata": {},
   "outputs": [],
   "source": []
  },
  {
   "cell_type": "code",
   "execution_count": null,
   "id": "1b815294",
   "metadata": {},
   "outputs": [],
   "source": []
  },
  {
   "cell_type": "code",
   "execution_count": null,
   "id": "53a47742",
   "metadata": {},
   "outputs": [],
   "source": []
  },
  {
   "cell_type": "code",
   "execution_count": null,
   "id": "0365570f",
   "metadata": {},
   "outputs": [],
   "source": []
  }
 ],
 "metadata": {
  "kernelspec": {
   "display_name": "Python 3 (ipykernel)",
   "language": "python",
   "name": "python3"
  },
  "language_info": {
   "codemirror_mode": {
    "name": "ipython",
    "version": 3
   },
   "file_extension": ".py",
   "mimetype": "text/x-python",
   "name": "python",
   "nbconvert_exporter": "python",
   "pygments_lexer": "ipython3",
   "version": "3.11.5"
  }
 },
 "nbformat": 4,
 "nbformat_minor": 5
}
