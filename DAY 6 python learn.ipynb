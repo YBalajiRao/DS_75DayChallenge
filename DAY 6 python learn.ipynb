{
 "cells": [
  {
   "cell_type": "code",
   "execution_count": 1,
   "id": "ddbb5f46",
   "metadata": {},
   "outputs": [],
   "source": [
    "# Indian food list\n",
    "indian_food = [\"Biryani\", \"Butter Chicken\", \"Paneer Tikka\", \"Samosa\", \"Masala Dosa\"]\n",
    "\n",
    "# Chinese food list\n",
    "chinese_food = [\"Sweet and Sour Chicken\", \"Kung Pao Chicken\", \"Spring Rolls\", \"Dim Sum\", \"Fried Rice\"]\n",
    "\n",
    "# Japanese food list\n",
    "japanese_food = [\"Sushi\", \"Ramen\", \"Tempura\", \"Udon\", \"Sashimi\"]\n"
   ]
  },
  {
   "cell_type": "code",
   "execution_count": null,
   "id": "33cba74f",
   "metadata": {},
   "outputs": [],
   "source": []
  },
  {
   "cell_type": "code",
   "execution_count": 14,
   "id": "0a70f99b",
   "metadata": {},
   "outputs": [
    {
     "name": "stdout",
     "output_type": "stream",
     "text": [
      "1\n",
      "9\n",
      "25\n"
     ]
    }
   ],
   "source": [
    "for i in range(1,6):\n",
    "    s=i**2\n",
    "    if s%2==1:\n",
    "        print(s)\n",
    "    "
   ]
  },
  {
   "cell_type": "code",
   "execution_count": 15,
   "id": "99bbcdee",
   "metadata": {},
   "outputs": [],
   "source": [
    "#While loop"
   ]
  },
  {
   "cell_type": "code",
   "execution_count": null,
   "id": "6a749531",
   "metadata": {},
   "outputs": [
    {
     "name": "stdout",
     "output_type": "stream",
     "text": [
      "0\n"
     ]
    }
   ],
   "source": [
    "s=0\n",
    "while s<11:\n",
    "    if s %2==0:\n",
    "        print(s)\n",
    "        s=s+1"
   ]
  },
  {
   "cell_type": "code",
   "execution_count": null,
   "id": "39ec6904",
   "metadata": {},
   "outputs": [],
   "source": [
    "#Functions"
   ]
  },
  {
   "cell_type": "code",
   "execution_count": 13,
   "id": "ec9db1c0",
   "metadata": {},
   "outputs": [
    {
     "name": "stdout",
     "output_type": "stream",
     "text": [
      "the first one:  5\n",
      "the second one:  8\n",
      "13\n"
     ]
    }
   ],
   "source": [
    "# Define the sum function\n",
    "def sum(a, b=0):\n",
    "    c = a + b\n",
    "    print(\"the first one: \",a)\n",
    "    print(\"the second one: \",b)\n",
    "    return c\n",
    "\n",
    "# Call the sum function with arguments 4 and 5\n",
    "res = sum(5,8)\n",
    "\n",
    "# Print the result\n",
    "print(res)\n"
   ]
  },
  {
   "cell_type": "code",
   "execution_count": 14,
   "id": "001e082c",
   "metadata": {},
   "outputs": [],
   "source": [
    "#Documentation Strings"
   ]
  },
  {
   "cell_type": "code",
   "execution_count": 15,
   "id": "3a3efb9b",
   "metadata": {},
   "outputs": [
    {
     "ename": "SyntaxError",
     "evalue": "invalid syntax (1144395725.py, line 5)",
     "output_type": "error",
     "traceback": [
      "\u001b[1;36m  Cell \u001b[1;32mIn[15], line 5\u001b[1;36m\u001b[0m\n\u001b[1;33m    '''  c = a + b\u001b[0m\n\u001b[1;37m         ^\u001b[0m\n\u001b[1;31mSyntaxError\u001b[0m\u001b[1;31m:\u001b[0m invalid syntax\n"
     ]
    }
   ],
   "source": [
    "# Define the sum function\n",
    "def sum(a, b=0):\n",
    "  '''\n",
    "the quick browm fpx mumps over the lazy dog.\n",
    "'''  c = a + b\n",
    "    print(\"the first one: \",a)\n",
    "    print(\"the second one: \",b)\n",
    "    return c\n",
    "\n",
    "# Call the sum function with arguments 4 and 5\n",
    "res = sum(5,8)\n",
    "\n",
    "# Print the result\n",
    "print(res)\n"
   ]
  },
  {
   "cell_type": "code",
   "execution_count": null,
   "id": "fff1f5c4",
   "metadata": {},
   "outputs": [],
   "source": []
  },
  {
   "cell_type": "code",
   "execution_count": null,
   "id": "c2c12a2f",
   "metadata": {},
   "outputs": [],
   "source": []
  },
  {
   "cell_type": "code",
   "execution_count": 4,
   "id": "1a3286c5",
   "metadata": {},
   "outputs": [
    {
     "name": "stdout",
     "output_type": "stream",
     "text": [
      "enter your dish: Ramen\n"
     ]
    }
   ],
   "source": [
    "dish=input(\"enter your dish: \")"
   ]
  },
  {
   "cell_type": "code",
   "execution_count": 5,
   "id": "a3058933",
   "metadata": {},
   "outputs": [
    {
     "name": "stdout",
     "output_type": "stream",
     "text": [
      "it is japanese food\n"
     ]
    }
   ],
   "source": [
    "if dish in indian_food:\n",
    "    print(\"it is indian food\")\n",
    "elif dish in chinese_food:\n",
    "    print(\"it is chinese\")\n",
    "elif dish in japanese_food:\n",
    "    print('it is japanese food')\n",
    "else:\n",
    "    print(\"not realated to the anycountry\")"
   ]
  },
  {
   "cell_type": "code",
   "execution_count": 6,
   "id": "7b925595",
   "metadata": {},
   "outputs": [
    {
     "name": "stdout",
     "output_type": "stream",
     "text": [
      "Enter a number: 5\n",
      "The number is odd.\n"
     ]
    }
   ],
   "source": [
    "num_str = input(\"Enter a number: \")\n",
    "num = int(num_str)\n",
    "\n",
    "if num % 2 == 0:\n",
    "    print(\"The number is even.\")\n",
    "else:\n",
    "    print(\"The number is odd.\")\n"
   ]
  },
  {
   "cell_type": "code",
   "execution_count": 7,
   "id": "e3446c32",
   "metadata": {},
   "outputs": [],
   "source": [
    "#FOR LOOP"
   ]
  },
  {
   "cell_type": "code",
   "execution_count": 13,
   "id": "dd96b00a",
   "metadata": {},
   "outputs": [],
   "source": [
    "expenditures = [1500, 300, 200, 100, 50, 150, 100]"
   ]
  },
  {
   "cell_type": "code",
   "execution_count": 14,
   "id": "6970e203",
   "metadata": {},
   "outputs": [
    {
     "name": "stdout",
     "output_type": "stream",
     "text": [
      "2400\n"
     ]
    }
   ],
   "source": [
    "total = 0\n",
    "for i in expenditures:\n",
    "    total += i\n",
    "print(total)\n"
   ]
  },
  {
   "cell_type": "code",
   "execution_count": 15,
   "id": "a0932a4d",
   "metadata": {},
   "outputs": [
    {
     "name": "stdout",
     "output_type": "stream",
     "text": [
      "1\n",
      "2\n",
      "3\n",
      "4\n",
      "5\n",
      "6\n",
      "7\n",
      "8\n",
      "9\n",
      "10\n"
     ]
    }
   ],
   "source": [
    "#print 1 to 10\n",
    "for i in range(1,11):\n",
    "    print(i)"
   ]
  },
  {
   "cell_type": "code",
   "execution_count": 24,
   "id": "43f50176",
   "metadata": {},
   "outputs": [
    {
     "name": "stdout",
     "output_type": "stream",
     "text": [
      "key is not found\n",
      "key is found chair\n",
      "key is not found\n"
     ]
    }
   ],
   "source": [
    "key_location=\"chair\"\n",
    "locations=['garage','chair','living_room']\n",
    "for i in locations:\n",
    "    if i==key_location:\n",
    "        print('key is found', i)\n",
    "        pass\n",
    "    else:\n",
    "        print(\"key is not found\")"
   ]
  },
  {
   "cell_type": "code",
   "execution_count": null,
   "id": "d0d3b9e0",
   "metadata": {},
   "outputs": [],
   "source": []
  },
  {
   "cell_type": "code",
   "execution_count": null,
   "id": "4f675f13",
   "metadata": {},
   "outputs": [],
   "source": []
  }
 ],
 "metadata": {
  "kernelspec": {
   "display_name": "Python 3 (ipykernel)",
   "language": "python",
   "name": "python3"
  },
  "language_info": {
   "codemirror_mode": {
    "name": "ipython",
    "version": 3
   },
   "file_extension": ".py",
   "mimetype": "text/x-python",
   "name": "python",
   "nbconvert_exporter": "python",
   "pygments_lexer": "ipython3",
   "version": "3.11.5"
  }
 },
 "nbformat": 4,
 "nbformat_minor": 5
}
