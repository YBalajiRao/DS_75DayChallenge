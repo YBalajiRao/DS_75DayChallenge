{
 "cells": [
  {
   "cell_type": "code",
   "execution_count": 19,
   "id": "c1c3f292",
   "metadata": {},
   "outputs": [],
   "source": [
    "import numpy as np\n",
    "import pandas as pd\n",
    "from sklearn.model_selection import train_test_split\n",
    "from sklearn.linear_model import LinearRegression\n",
    "from sklearn.metrics import mean_squared_error\n",
    "import matplotlib.pyplot as plt\n"
   ]
  },
  {
   "cell_type": "code",
   "execution_count": 20,
   "id": "33895a18",
   "metadata": {},
   "outputs": [],
   "source": [
    "file_path = r'C:\\Users\\91944\\Downloads\\data.csv.xlsx'"
   ]
  },
  {
   "cell_type": "code",
   "execution_count": 21,
   "id": "76e7e331",
   "metadata": {},
   "outputs": [
    {
     "name": "stdout",
     "output_type": "stream",
     "text": [
      "   area   price\n",
      "0  2600  550000\n",
      "1  3000  565000\n",
      "2  3200  610000\n",
      "3  3600  680000\n",
      "4  4000  725000\n"
     ]
    }
   ],
   "source": [
    "df=pd.read_excel(file_path)\n",
    "print(df)"
   ]
  },
  {
   "cell_type": "code",
   "execution_count": 22,
   "id": "ff3c2fca",
   "metadata": {},
   "outputs": [
    {
     "name": "stdout",
     "output_type": "stream",
     "text": [
      "Index(['area', 'price'], dtype='object')\n"
     ]
    }
   ],
   "source": [
    "print(df.columns)\n"
   ]
  },
  {
   "cell_type": "code",
   "execution_count": 23,
   "id": "6eb4262f",
   "metadata": {},
   "outputs": [],
   "source": [
    "# Split the Data into Training and Testing Sets\n",
    "X_train, X_test, y_train, y_test = train_test_split(df[['area']], df['price'], test_size=0.2, random_state=42)\n"
   ]
  },
  {
   "cell_type": "code",
   "execution_count": 25,
   "id": "396cffe8",
   "metadata": {},
   "outputs": [],
   "source": [
    "# Create a Linear Regression Model\n",
    "model = LinearRegression()\n",
    "\n",
    "# Train the Model\n",
    "model.fit(X_train, y_train)\n",
    "\n",
    "# Make Predictions\n",
    "predictions = model.predict(X_test)\n",
    "\n"
   ]
  },
  {
   "cell_type": "code",
   "execution_count": 27,
   "id": "58ccfacd",
   "metadata": {},
   "outputs": [
    {
     "name": "stdout",
     "output_type": "stream",
     "text": [
      "[545046.72897196]\n"
     ]
    },
    {
     "name": "stderr",
     "output_type": "stream",
     "text": [
      "C:\\Users\\91944\\.anaconda\\Anaconda_new\\Lib\\site-packages\\sklearn\\base.py:464: UserWarning: X does not have valid feature names, but LinearRegression was fitted with feature names\n",
      "  warnings.warn(\n"
     ]
    }
   ],
   "source": [
    "new_area=np.array([[2600]])\n",
    "predicted_area=model.predict(new_area)\n",
    "print(predicted_area)"
   ]
  },
  {
   "cell_type": "code",
   "execution_count": 28,
   "id": "5af53d28",
   "metadata": {},
   "outputs": [],
   "source": [
    "import pandas as pd"
   ]
  },
  {
   "cell_type": "code",
   "execution_count": 29,
   "id": "4e5ba963",
   "metadata": {},
   "outputs": [],
   "source": [
    "existing_data = pd.read_excel(\"C:\\\\Users\\\\91944\\\\Desktop\\\\Book.xlsx\")"
   ]
  },
  {
   "cell_type": "code",
   "execution_count": 30,
   "id": "d8cac812",
   "metadata": {},
   "outputs": [],
   "source": [
    "existing_areas=existing_data[['area']]\n",
    "predicted_prices=model.predict(existing_areas)"
   ]
  },
  {
   "cell_type": "code",
   "execution_count": 31,
   "id": "273b0c1d",
   "metadata": {},
   "outputs": [],
   "source": [
    "existing_data['predicted_prices']=predicted_prices"
   ]
  },
  {
   "cell_type": "code",
   "execution_count": 32,
   "id": "737ea0bb",
   "metadata": {},
   "outputs": [],
   "source": [
    "existing_data.to_excel(\"C:\\\\Users\\\\91944\\\\Desktop\\\\Book_updated.xlsx\",index=False)"
   ]
  },
  {
   "cell_type": "code",
   "execution_count": null,
   "id": "e847c88f",
   "metadata": {},
   "outputs": [],
   "source": []
  }
 ],
 "metadata": {
  "kernelspec": {
   "display_name": "Python 3 (ipykernel)",
   "language": "python",
   "name": "python3"
  },
  "language_info": {
   "codemirror_mode": {
    "name": "ipython",
    "version": 3
   },
   "file_extension": ".py",
   "mimetype": "text/x-python",
   "name": "python",
   "nbconvert_exporter": "python",
   "pygments_lexer": "ipython3",
   "version": "3.11.5"
  }
 },
 "nbformat": 4,
 "nbformat_minor": 5
}
