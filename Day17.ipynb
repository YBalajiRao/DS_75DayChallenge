{
 "cells": [
  {
   "cell_type": "code",
   "execution_count": 1,
   "id": "d5db8660",
   "metadata": {},
   "outputs": [
    {
     "name": "stdout",
     "output_type": "stream",
     "text": [
      "       Animal      Type  Weight (kg)  Height (cm)   Food Type\n",
      "0        Lion    Mammal          200          120   Carnivore\n",
      "1    Elephant    Mammal         5000          300   Herbivore\n",
      "2     Giraffe    Mammal          800          550   Herbivore\n",
      "3       Tiger    Mammal          250          100   Carnivore\n",
      "4       Zebra    Mammal          350          130   Herbivore\n",
      "5     Penguin      Bird          -10           50   Carnivore\n",
      "6   Crocodile   Reptile          300          200   Carnivore\n",
      "7     Gorilla    Mammal          180          160    Omnivore\n",
      "8       Snake   Reptile           10          150   Carnivore\n",
      "9      Rabbit    Mammal            2           40   Herbivore\n",
      "10    Unicorn  Mythical         9999         1000  Magic Food\n"
     ]
    }
   ],
   "source": [
    "import pandas as pd\n",
    "\n",
    "# Creating a dictionary with the given data\n",
    "data = {\n",
    "    'Animal': ['Lion', 'Elephant', 'Giraffe', 'Tiger', 'Zebra', 'Penguin', 'Crocodile', 'Gorilla', 'Snake', 'Rabbit', 'Unicorn'],\n",
    "    'Type': ['Mammal', 'Mammal', 'Mammal', 'Mammal', 'Mammal', 'Bird', 'Reptile', 'Mammal', 'Reptile', 'Mammal', 'Mythical'],\n",
    "    'Weight (kg)': [200, 5000, 800, 250, 350, -10, 300, 180, 10, 2, 9999],\n",
    "    'Height (cm)': [120, 300, 550, 100, 130, 50, 200, 160, 150, 40, 1000],\n",
    "    'Food Type': ['Carnivore', 'Herbivore', 'Herbivore', 'Carnivore', 'Herbivore', 'Carnivore', 'Carnivore', 'Omnivore', 'Carnivore', 'Herbivore', 'Magic Food']\n",
    "}\n",
    "\n",
    "# Creating DataFrame\n",
    "df = pd.DataFrame(data)\n",
    "\n",
    "# Displaying the DataFrame\n",
    "print(df)\n"
   ]
  },
  {
   "cell_type": "code",
   "execution_count": 2,
   "id": "4f5ac967",
   "metadata": {},
   "outputs": [
    {
     "data": {
      "text/html": [
       "<div>\n",
       "<style scoped>\n",
       "    .dataframe tbody tr th:only-of-type {\n",
       "        vertical-align: middle;\n",
       "    }\n",
       "\n",
       "    .dataframe tbody tr th {\n",
       "        vertical-align: top;\n",
       "    }\n",
       "\n",
       "    .dataframe thead th {\n",
       "        text-align: right;\n",
       "    }\n",
       "</style>\n",
       "<table border=\"1\" class=\"dataframe\">\n",
       "  <thead>\n",
       "    <tr style=\"text-align: right;\">\n",
       "      <th></th>\n",
       "      <th>Animal</th>\n",
       "      <th>Type</th>\n",
       "      <th>Weight (kg)</th>\n",
       "      <th>Height (cm)</th>\n",
       "      <th>Food Type</th>\n",
       "    </tr>\n",
       "  </thead>\n",
       "  <tbody>\n",
       "    <tr>\n",
       "      <th>0</th>\n",
       "      <td>Lion</td>\n",
       "      <td>Mammal</td>\n",
       "      <td>200</td>\n",
       "      <td>120</td>\n",
       "      <td>Carnivore</td>\n",
       "    </tr>\n",
       "    <tr>\n",
       "      <th>1</th>\n",
       "      <td>Elephant</td>\n",
       "      <td>Mammal</td>\n",
       "      <td>5000</td>\n",
       "      <td>300</td>\n",
       "      <td>Herbivore</td>\n",
       "    </tr>\n",
       "    <tr>\n",
       "      <th>2</th>\n",
       "      <td>Giraffe</td>\n",
       "      <td>Mammal</td>\n",
       "      <td>800</td>\n",
       "      <td>550</td>\n",
       "      <td>Herbivore</td>\n",
       "    </tr>\n",
       "    <tr>\n",
       "      <th>3</th>\n",
       "      <td>Tiger</td>\n",
       "      <td>Mammal</td>\n",
       "      <td>250</td>\n",
       "      <td>100</td>\n",
       "      <td>Carnivore</td>\n",
       "    </tr>\n",
       "    <tr>\n",
       "      <th>4</th>\n",
       "      <td>Zebra</td>\n",
       "      <td>Mammal</td>\n",
       "      <td>350</td>\n",
       "      <td>130</td>\n",
       "      <td>Herbivore</td>\n",
       "    </tr>\n",
       "  </tbody>\n",
       "</table>\n",
       "</div>"
      ],
      "text/plain": [
       "     Animal    Type  Weight (kg)  Height (cm)  Food Type\n",
       "0      Lion  Mammal          200          120  Carnivore\n",
       "1  Elephant  Mammal         5000          300  Herbivore\n",
       "2   Giraffe  Mammal          800          550  Herbivore\n",
       "3     Tiger  Mammal          250          100  Carnivore\n",
       "4     Zebra  Mammal          350          130  Herbivore"
      ]
     },
     "execution_count": 2,
     "metadata": {},
     "output_type": "execute_result"
    }
   ],
   "source": [
    "df.head()"
   ]
  },
  {
   "cell_type": "code",
   "execution_count": 4,
   "id": "8c156adf",
   "metadata": {},
   "outputs": [
    {
     "data": {
      "text/plain": [
       "Animal         0\n",
       "Type           0\n",
       "Weight (kg)    0\n",
       "Height (cm)    0\n",
       "Food Type      0\n",
       "dtype: int64"
      ]
     },
     "execution_count": 4,
     "metadata": {},
     "output_type": "execute_result"
    }
   ],
   "source": [
    "df.isnull().sum()"
   ]
  },
  {
   "cell_type": "code",
   "execution_count": 12,
   "id": "d539424c",
   "metadata": {},
   "outputs": [],
   "source": [
    "df = df[df['Animal']!='Unicorn']"
   ]
  },
  {
   "cell_type": "code",
   "execution_count": 13,
   "id": "d865ea44",
   "metadata": {},
   "outputs": [
    {
     "data": {
      "text/html": [
       "<div>\n",
       "<style scoped>\n",
       "    .dataframe tbody tr th:only-of-type {\n",
       "        vertical-align: middle;\n",
       "    }\n",
       "\n",
       "    .dataframe tbody tr th {\n",
       "        vertical-align: top;\n",
       "    }\n",
       "\n",
       "    .dataframe thead th {\n",
       "        text-align: right;\n",
       "    }\n",
       "</style>\n",
       "<table border=\"1\" class=\"dataframe\">\n",
       "  <thead>\n",
       "    <tr style=\"text-align: right;\">\n",
       "      <th></th>\n",
       "      <th>Animal</th>\n",
       "      <th>Type</th>\n",
       "      <th>Weight (kg)</th>\n",
       "      <th>Height (cm)</th>\n",
       "      <th>Food Type</th>\n",
       "    </tr>\n",
       "  </thead>\n",
       "  <tbody>\n",
       "    <tr>\n",
       "      <th>0</th>\n",
       "      <td>Lion</td>\n",
       "      <td>Mammal</td>\n",
       "      <td>200</td>\n",
       "      <td>120</td>\n",
       "      <td>Carnivore</td>\n",
       "    </tr>\n",
       "    <tr>\n",
       "      <th>1</th>\n",
       "      <td>Elephant</td>\n",
       "      <td>Mammal</td>\n",
       "      <td>5000</td>\n",
       "      <td>300</td>\n",
       "      <td>Herbivore</td>\n",
       "    </tr>\n",
       "    <tr>\n",
       "      <th>2</th>\n",
       "      <td>Giraffe</td>\n",
       "      <td>Mammal</td>\n",
       "      <td>800</td>\n",
       "      <td>550</td>\n",
       "      <td>Herbivore</td>\n",
       "    </tr>\n",
       "    <tr>\n",
       "      <th>3</th>\n",
       "      <td>Tiger</td>\n",
       "      <td>Mammal</td>\n",
       "      <td>250</td>\n",
       "      <td>100</td>\n",
       "      <td>Carnivore</td>\n",
       "    </tr>\n",
       "    <tr>\n",
       "      <th>4</th>\n",
       "      <td>Zebra</td>\n",
       "      <td>Mammal</td>\n",
       "      <td>350</td>\n",
       "      <td>130</td>\n",
       "      <td>Herbivore</td>\n",
       "    </tr>\n",
       "    <tr>\n",
       "      <th>5</th>\n",
       "      <td>Penguin</td>\n",
       "      <td>Bird</td>\n",
       "      <td>-10</td>\n",
       "      <td>50</td>\n",
       "      <td>Carnivore</td>\n",
       "    </tr>\n",
       "    <tr>\n",
       "      <th>6</th>\n",
       "      <td>Crocodile</td>\n",
       "      <td>Reptile</td>\n",
       "      <td>300</td>\n",
       "      <td>200</td>\n",
       "      <td>Carnivore</td>\n",
       "    </tr>\n",
       "    <tr>\n",
       "      <th>7</th>\n",
       "      <td>Gorilla</td>\n",
       "      <td>Mammal</td>\n",
       "      <td>180</td>\n",
       "      <td>160</td>\n",
       "      <td>Omnivore</td>\n",
       "    </tr>\n",
       "    <tr>\n",
       "      <th>8</th>\n",
       "      <td>Snake</td>\n",
       "      <td>Reptile</td>\n",
       "      <td>10</td>\n",
       "      <td>150</td>\n",
       "      <td>Carnivore</td>\n",
       "    </tr>\n",
       "    <tr>\n",
       "      <th>9</th>\n",
       "      <td>Rabbit</td>\n",
       "      <td>Mammal</td>\n",
       "      <td>2</td>\n",
       "      <td>40</td>\n",
       "      <td>Herbivore</td>\n",
       "    </tr>\n",
       "  </tbody>\n",
       "</table>\n",
       "</div>"
      ],
      "text/plain": [
       "      Animal     Type  Weight (kg)  Height (cm)  Food Type\n",
       "0       Lion   Mammal          200          120  Carnivore\n",
       "1   Elephant   Mammal         5000          300  Herbivore\n",
       "2    Giraffe   Mammal          800          550  Herbivore\n",
       "3      Tiger   Mammal          250          100  Carnivore\n",
       "4      Zebra   Mammal          350          130  Herbivore\n",
       "5    Penguin     Bird          -10           50  Carnivore\n",
       "6  Crocodile  Reptile          300          200  Carnivore\n",
       "7    Gorilla   Mammal          180          160   Omnivore\n",
       "8      Snake  Reptile           10          150  Carnivore\n",
       "9     Rabbit   Mammal            2           40  Herbivore"
      ]
     },
     "execution_count": 13,
     "metadata": {},
     "output_type": "execute_result"
    }
   ],
   "source": [
    "df"
   ]
  },
  {
   "cell_type": "code",
   "execution_count": 14,
   "id": "8c93f8d4",
   "metadata": {},
   "outputs": [],
   "source": [
    "df = df[df['Animal']!='Penguin']"
   ]
  },
  {
   "cell_type": "code",
   "execution_count": 15,
   "id": "c078421e",
   "metadata": {},
   "outputs": [
    {
     "data": {
      "text/html": [
       "<div>\n",
       "<style scoped>\n",
       "    .dataframe tbody tr th:only-of-type {\n",
       "        vertical-align: middle;\n",
       "    }\n",
       "\n",
       "    .dataframe tbody tr th {\n",
       "        vertical-align: top;\n",
       "    }\n",
       "\n",
       "    .dataframe thead th {\n",
       "        text-align: right;\n",
       "    }\n",
       "</style>\n",
       "<table border=\"1\" class=\"dataframe\">\n",
       "  <thead>\n",
       "    <tr style=\"text-align: right;\">\n",
       "      <th></th>\n",
       "      <th>Animal</th>\n",
       "      <th>Type</th>\n",
       "      <th>Weight (kg)</th>\n",
       "      <th>Height (cm)</th>\n",
       "      <th>Food Type</th>\n",
       "    </tr>\n",
       "  </thead>\n",
       "  <tbody>\n",
       "    <tr>\n",
       "      <th>0</th>\n",
       "      <td>Lion</td>\n",
       "      <td>Mammal</td>\n",
       "      <td>200</td>\n",
       "      <td>120</td>\n",
       "      <td>Carnivore</td>\n",
       "    </tr>\n",
       "    <tr>\n",
       "      <th>1</th>\n",
       "      <td>Elephant</td>\n",
       "      <td>Mammal</td>\n",
       "      <td>5000</td>\n",
       "      <td>300</td>\n",
       "      <td>Herbivore</td>\n",
       "    </tr>\n",
       "    <tr>\n",
       "      <th>2</th>\n",
       "      <td>Giraffe</td>\n",
       "      <td>Mammal</td>\n",
       "      <td>800</td>\n",
       "      <td>550</td>\n",
       "      <td>Herbivore</td>\n",
       "    </tr>\n",
       "    <tr>\n",
       "      <th>3</th>\n",
       "      <td>Tiger</td>\n",
       "      <td>Mammal</td>\n",
       "      <td>250</td>\n",
       "      <td>100</td>\n",
       "      <td>Carnivore</td>\n",
       "    </tr>\n",
       "    <tr>\n",
       "      <th>4</th>\n",
       "      <td>Zebra</td>\n",
       "      <td>Mammal</td>\n",
       "      <td>350</td>\n",
       "      <td>130</td>\n",
       "      <td>Herbivore</td>\n",
       "    </tr>\n",
       "    <tr>\n",
       "      <th>6</th>\n",
       "      <td>Crocodile</td>\n",
       "      <td>Reptile</td>\n",
       "      <td>300</td>\n",
       "      <td>200</td>\n",
       "      <td>Carnivore</td>\n",
       "    </tr>\n",
       "    <tr>\n",
       "      <th>7</th>\n",
       "      <td>Gorilla</td>\n",
       "      <td>Mammal</td>\n",
       "      <td>180</td>\n",
       "      <td>160</td>\n",
       "      <td>Omnivore</td>\n",
       "    </tr>\n",
       "    <tr>\n",
       "      <th>8</th>\n",
       "      <td>Snake</td>\n",
       "      <td>Reptile</td>\n",
       "      <td>10</td>\n",
       "      <td>150</td>\n",
       "      <td>Carnivore</td>\n",
       "    </tr>\n",
       "    <tr>\n",
       "      <th>9</th>\n",
       "      <td>Rabbit</td>\n",
       "      <td>Mammal</td>\n",
       "      <td>2</td>\n",
       "      <td>40</td>\n",
       "      <td>Herbivore</td>\n",
       "    </tr>\n",
       "  </tbody>\n",
       "</table>\n",
       "</div>"
      ],
      "text/plain": [
       "      Animal     Type  Weight (kg)  Height (cm)  Food Type\n",
       "0       Lion   Mammal          200          120  Carnivore\n",
       "1   Elephant   Mammal         5000          300  Herbivore\n",
       "2    Giraffe   Mammal          800          550  Herbivore\n",
       "3      Tiger   Mammal          250          100  Carnivore\n",
       "4      Zebra   Mammal          350          130  Herbivore\n",
       "6  Crocodile  Reptile          300          200  Carnivore\n",
       "7    Gorilla   Mammal          180          160   Omnivore\n",
       "8      Snake  Reptile           10          150  Carnivore\n",
       "9     Rabbit   Mammal            2           40  Herbivore"
      ]
     },
     "execution_count": 15,
     "metadata": {},
     "output_type": "execute_result"
    }
   ],
   "source": [
    "df"
   ]
  },
  {
   "cell_type": "code",
   "execution_count": 16,
   "id": "e45c984a",
   "metadata": {},
   "outputs": [
    {
     "data": {
      "text/plain": [
       "Index(['Animal', 'Type', 'Weight (kg)', 'Height (cm)', 'Food Type'], dtype='object')"
      ]
     },
     "execution_count": 16,
     "metadata": {},
     "output_type": "execute_result"
    }
   ],
   "source": [
    "df.columns"
   ]
  },
  {
   "cell_type": "code",
   "execution_count": 17,
   "id": "ccb5c496",
   "metadata": {},
   "outputs": [
    {
     "data": {
      "text/plain": [
       "Animal         object\n",
       "Type           object\n",
       "Weight (kg)     int64\n",
       "Height (cm)     int64\n",
       "Food Type      object\n",
       "dtype: object"
      ]
     },
     "execution_count": 17,
     "metadata": {},
     "output_type": "execute_result"
    }
   ],
   "source": [
    "df.dtypes"
   ]
  },
  {
   "cell_type": "code",
   "execution_count": 24,
   "id": "31c60a6d",
   "metadata": {},
   "outputs": [
    {
     "data": {
      "image/png": "[encoded data removed]",
      "text/plain": [
       "<Figure size 640x480 with 1 Axes>"
      ]
     },
     "metadata": {},
     "output_type": "display_data"
    }
   ],
   "source": [
    "import matplotlib.pyplot as plt\n",
    "\n",
    "# Count the occurrences of each animal in the 'Animal' column\n",
    "animal_counts = df['Animal'].value_counts()\n",
    "\n",
    "# Plotting the bar chart\n",
    "plt.bar(animal_counts.index, animal_counts.values)\n",
    "\n",
    "# Adding labels and title\n",
    "plt.xlabel('Animal')\n",
    "plt.ylabel('Count')\n",
    "plt.title('Counts of Different Animals')\n",
    "\n",
    "# Rotating x-axis labels for better visibility\n",
    "plt.xticks(rotation=45)\n",
    "\n",
    "# Display the plot\n",
    "plt.grid()\n",
    "plt.show()\n"
   ]
  },
  {
   "cell_type": "code",
   "execution_count": null,
   "id": "70f9bd9c",
   "metadata": {},
   "outputs": [],
   "source": []
  }
 ],
 "metadata": {
  "kernelspec": {
   "display_name": "Python 3 (ipykernel)",
   "language": "python",
   "name": "python3"
  },
  "language_info": {
   "codemirror_mode": {
    "name": "ipython",
    "version": 3
   },
   "file_extension": ".py",
   "mimetype": "text/x-python",
   "name": "python",
   "nbconvert_exporter": "python",
   "pygments_lexer": "ipython3",
   "version": "3.11.5"
  }
 },
 "nbformat": 4,
 "nbformat_minor": 5
}
