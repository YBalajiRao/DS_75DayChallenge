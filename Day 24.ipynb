{
 "cells": [
  {
   "cell_type": "code",
   "execution_count": 34,
   "id": "0fa12553",
   "metadata": {},
   "outputs": [],
   "source": [
    "#Python basics stronger"
   ]
  },
  {
   "cell_type": "code",
   "execution_count": 35,
   "id": "22b6fd20",
   "metadata": {},
   "outputs": [],
   "source": [
    "#LISTS"
   ]
  },
  {
   "cell_type": "code",
   "execution_count": 6,
   "id": "0d1a69aa",
   "metadata": {},
   "outputs": [],
   "source": [
    "a=['sangeetha','respect','topper','music']"
   ]
  },
  {
   "cell_type": "code",
   "execution_count": 7,
   "id": "fe9653bd",
   "metadata": {},
   "outputs": [
    {
     "name": "stdout",
     "output_type": "stream",
     "text": [
      "sangeetha\n",
      "respect\n",
      "topper\n",
      "music\n"
     ]
    }
   ],
   "source": [
    "for i in a:\n",
    "    print(i)"
   ]
  },
  {
   "cell_type": "code",
   "execution_count": 8,
   "id": "7186a6b7",
   "metadata": {},
   "outputs": [],
   "source": [
    "a.append('balaji')"
   ]
  },
  {
   "cell_type": "code",
   "execution_count": 9,
   "id": "6ed4d358",
   "metadata": {},
   "outputs": [
    {
     "data": {
      "text/plain": [
       "['sangeetha', 'respect', 'topper', 'music', 'balaji']"
      ]
     },
     "execution_count": 9,
     "metadata": {},
     "output_type": "execute_result"
    }
   ],
   "source": [
    "a"
   ]
  },
  {
   "cell_type": "code",
   "execution_count": 10,
   "id": "6e6b06b5",
   "metadata": {},
   "outputs": [],
   "source": [
    "a.remove('music')"
   ]
  },
  {
   "cell_type": "code",
   "execution_count": 11,
   "id": "7fd35e42",
   "metadata": {},
   "outputs": [
    {
     "data": {
      "text/plain": [
       "['sangeetha', 'respect', 'topper', 'balaji']"
      ]
     },
     "execution_count": 11,
     "metadata": {},
     "output_type": "execute_result"
    }
   ],
   "source": [
    "a"
   ]
  },
  {
   "cell_type": "code",
   "execution_count": 12,
   "id": "6f0711d6",
   "metadata": {},
   "outputs": [],
   "source": [
    "a.extend(['pavankalyan','purushotham'])"
   ]
  },
  {
   "cell_type": "code",
   "execution_count": 13,
   "id": "b7ae3913",
   "metadata": {},
   "outputs": [
    {
     "data": {
      "text/plain": [
       "['sangeetha', 'respect', 'topper', 'balaji', 'pavankalyan', 'purushotham']"
      ]
     },
     "execution_count": 13,
     "metadata": {},
     "output_type": "execute_result"
    }
   ],
   "source": [
    "a"
   ]
  },
  {
   "cell_type": "code",
   "execution_count": 16,
   "id": "8ac088c6",
   "metadata": {},
   "outputs": [],
   "source": [
    "a.remove('topper')"
   ]
  },
  {
   "cell_type": "code",
   "execution_count": 17,
   "id": "e62d2e5b",
   "metadata": {},
   "outputs": [
    {
     "data": {
      "text/plain": [
       "['sangeetha', 'respect', 'balaji', 'pavankalyan', 'purushotham']"
      ]
     },
     "execution_count": 17,
     "metadata": {},
     "output_type": "execute_result"
    }
   ],
   "source": [
    "a"
   ]
  },
  {
   "cell_type": "code",
   "execution_count": 18,
   "id": "67a6eab2",
   "metadata": {},
   "outputs": [
    {
     "data": {
      "text/plain": [
       "'purushotham'"
      ]
     },
     "execution_count": 18,
     "metadata": {},
     "output_type": "execute_result"
    }
   ],
   "source": [
    "a.pop()"
   ]
  },
  {
   "cell_type": "code",
   "execution_count": 19,
   "id": "3cc459b2",
   "metadata": {},
   "outputs": [
    {
     "data": {
      "text/plain": [
       "['sangeetha', 'respect', 'balaji', 'pavankalyan']"
      ]
     },
     "execution_count": 19,
     "metadata": {},
     "output_type": "execute_result"
    }
   ],
   "source": [
    "a"
   ]
  },
  {
   "cell_type": "code",
   "execution_count": 20,
   "id": "2fb6631b",
   "metadata": {},
   "outputs": [],
   "source": [
    "a.sort()"
   ]
  },
  {
   "cell_type": "code",
   "execution_count": 21,
   "id": "7dd1fed3",
   "metadata": {},
   "outputs": [
    {
     "data": {
      "text/plain": [
       "['balaji', 'pavankalyan', 'respect', 'sangeetha']"
      ]
     },
     "execution_count": 21,
     "metadata": {},
     "output_type": "execute_result"
    }
   ],
   "source": [
    "a"
   ]
  },
  {
   "cell_type": "code",
   "execution_count": 22,
   "id": "8bd95775",
   "metadata": {},
   "outputs": [
    {
     "data": {
      "text/plain": [
       "4"
      ]
     },
     "execution_count": 22,
     "metadata": {},
     "output_type": "execute_result"
    }
   ],
   "source": [
    "len(a)"
   ]
  },
  {
   "cell_type": "code",
   "execution_count": 23,
   "id": "27b40d4b",
   "metadata": {},
   "outputs": [],
   "source": [
    "a.insert(3,'balajirao')"
   ]
  },
  {
   "cell_type": "code",
   "execution_count": 24,
   "id": "3e86ae95",
   "metadata": {},
   "outputs": [
    {
     "data": {
      "text/plain": [
       "['balaji', 'pavankalyan', 'respect', 'balajirao', 'sangeetha']"
      ]
     },
     "execution_count": 24,
     "metadata": {},
     "output_type": "execute_result"
    }
   ],
   "source": [
    "a"
   ]
  },
  {
   "cell_type": "code",
   "execution_count": 28,
   "id": "13593290",
   "metadata": {},
   "outputs": [],
   "source": [
    "a.remove('balaji')"
   ]
  },
  {
   "cell_type": "code",
   "execution_count": 29,
   "id": "67716aa7",
   "metadata": {},
   "outputs": [
    {
     "data": {
      "text/plain": [
       "['pavankalyan', 'respect', 'balajirao', 'sangeetha']"
      ]
     },
     "execution_count": 29,
     "metadata": {},
     "output_type": "execute_result"
    }
   ],
   "source": [
    "a"
   ]
  },
  {
   "cell_type": "code",
   "execution_count": 30,
   "id": "a57bff47",
   "metadata": {},
   "outputs": [
    {
     "data": {
      "text/plain": [
       "'pavankalyan'"
      ]
     },
     "execution_count": 30,
     "metadata": {},
     "output_type": "execute_result"
    }
   ],
   "source": [
    "a.pop(0)"
   ]
  },
  {
   "cell_type": "code",
   "execution_count": 31,
   "id": "1a1ccfa6",
   "metadata": {},
   "outputs": [
    {
     "data": {
      "text/plain": [
       "['respect', 'balajirao', 'sangeetha']"
      ]
     },
     "execution_count": 31,
     "metadata": {},
     "output_type": "execute_result"
    }
   ],
   "source": [
    "a"
   ]
  },
  {
   "cell_type": "code",
   "execution_count": 32,
   "id": "149c0664",
   "metadata": {},
   "outputs": [],
   "source": [
    "a.remove('respect')"
   ]
  },
  {
   "cell_type": "code",
   "execution_count": 33,
   "id": "7d17d986",
   "metadata": {},
   "outputs": [
    {
     "data": {
      "text/plain": [
       "['balajirao', 'sangeetha']"
      ]
     },
     "execution_count": 33,
     "metadata": {},
     "output_type": "execute_result"
    }
   ],
   "source": [
    "a"
   ]
  },
  {
   "cell_type": "code",
   "execution_count": 36,
   "id": "7eb58422",
   "metadata": {},
   "outputs": [],
   "source": [
    "#2d lists or Multidimensional lists"
   ]
  },
  {
   "cell_type": "code",
   "execution_count": 37,
   "id": "fb7d87b8",
   "metadata": {},
   "outputs": [],
   "source": [
    "deserts=['icecream', 'chinthacharu','rasam']"
   ]
  },
  {
   "cell_type": "code",
   "execution_count": 38,
   "id": "5a0573ff",
   "metadata": {},
   "outputs": [],
   "source": [
    "spciyfoods=['sambar','papu','dal']"
   ]
  },
  {
   "cell_type": "code",
   "execution_count": 39,
   "id": "6275de62",
   "metadata": {},
   "outputs": [],
   "source": [
    "drinks=['pepsi','cola','red Bull']"
   ]
  },
  {
   "cell_type": "code",
   "execution_count": 41,
   "id": "e84c7ef2",
   "metadata": {},
   "outputs": [],
   "source": [
    "food=[deserts,spciyfoods,drinks]"
   ]
  },
  {
   "cell_type": "code",
   "execution_count": 42,
   "id": "b970647a",
   "metadata": {},
   "outputs": [
    {
     "data": {
      "text/plain": [
       "[['icecream', 'chinthacharu', 'rasam'],\n",
       " ['sambar', 'papu', 'dal'],\n",
       " ['pepsi', 'cola', 'red Bull']]"
      ]
     },
     "execution_count": 42,
     "metadata": {},
     "output_type": "execute_result"
    }
   ],
   "source": [
    "food"
   ]
  },
  {
   "cell_type": "code",
   "execution_count": 43,
   "id": "b3cb4027",
   "metadata": {},
   "outputs": [
    {
     "name": "stdout",
     "output_type": "stream",
     "text": [
      "['icecream', 'chinthacharu', 'rasam']\n"
     ]
    }
   ],
   "source": [
    "print(food[0])"
   ]
  },
  {
   "cell_type": "code",
   "execution_count": 47,
   "id": "9321d2a9",
   "metadata": {},
   "outputs": [
    {
     "name": "stdout",
     "output_type": "stream",
     "text": [
      "papu\n"
     ]
    }
   ],
   "source": [
    "print(food[1][1])"
   ]
  },
  {
   "cell_type": "code",
   "execution_count": 48,
   "id": "7b94fef9",
   "metadata": {},
   "outputs": [],
   "source": [
    "#Tuples"
   ]
  },
  {
   "cell_type": "code",
   "execution_count": 50,
   "id": "366b2daa",
   "metadata": {},
   "outputs": [],
   "source": [
    "#tuple: collection which is order but it is unchangeble"
   ]
  },
  {
   "cell_type": "code",
   "execution_count": 51,
   "id": "58c480eb",
   "metadata": {},
   "outputs": [],
   "source": [
    "names=(23,'balaji','madanapalle')"
   ]
  },
  {
   "cell_type": "code",
   "execution_count": 52,
   "id": "260daa96",
   "metadata": {},
   "outputs": [
    {
     "data": {
      "text/plain": [
       "(23, 'balaji', 'madanapalle')"
      ]
     },
     "execution_count": 52,
     "metadata": {},
     "output_type": "execute_result"
    }
   ],
   "source": [
    "names"
   ]
  },
  {
   "cell_type": "code",
   "execution_count": 54,
   "id": "41ff5153",
   "metadata": {},
   "outputs": [
    {
     "name": "stdout",
     "output_type": "stream",
     "text": [
      "<class 'tuple'>\n"
     ]
    }
   ],
   "source": [
    "print(type(names))"
   ]
  },
  {
   "cell_type": "code",
   "execution_count": 55,
   "id": "2fbf0bd1",
   "metadata": {},
   "outputs": [
    {
     "name": "stdout",
     "output_type": "stream",
     "text": [
      "Unexpected exception formatting exception. Falling back to standard exception\n"
     ]
    },
    {
     "name": "stderr",
     "output_type": "stream",
     "text": [
      "Traceback (most recent call last):\n",
      "  File \"C:\\Users\\91944\\AppData\\Roaming\\Python\\Python311\\site-packages\\IPython\\core\\interactiveshell.py\", line 3508, in run_code\n",
      "    exec(code_obj, self.user_global_ns, self.user_ns)\n",
      "  File \"C:\\Users\\91944\\AppData\\Local\\Temp\\ipykernel_1548\\4086876702.py\", line 1, in <module>\n",
      "    names[0]='naga chaitanya'\n",
      "    ~~~~~^^^\n",
      "TypeError: 'tuple' object does not support item assignment\n",
      "\n",
      "During handling of the above exception, another exception occurred:\n",
      "\n",
      "Traceback (most recent call last):\n",
      "  File \"C:\\Users\\91944\\AppData\\Roaming\\Python\\Python311\\site-packages\\IPython\\core\\interactiveshell.py\", line 2105, in showtraceback\n",
      "    stb = self.InteractiveTB.structured_traceback(\n",
      "          ^^^^^^^^^^^^^^^^^^^^^^^^^^^^^^^^^^^^^^^^\n",
      "  File \"C:\\Users\\91944\\AppData\\Roaming\\Python\\Python311\\site-packages\\IPython\\core\\ultratb.py\", line 1428, in structured_traceback\n",
      "    return FormattedTB.structured_traceback(\n",
      "           ^^^^^^^^^^^^^^^^^^^^^^^^^^^^^^^^^\n",
      "  File \"C:\\Users\\91944\\AppData\\Roaming\\Python\\Python311\\site-packages\\IPython\\core\\ultratb.py\", line 1319, in structured_traceback\n",
      "    return VerboseTB.structured_traceback(\n",
      "           ^^^^^^^^^^^^^^^^^^^^^^^^^^^^^^^\n",
      "  File \"C:\\Users\\91944\\AppData\\Roaming\\Python\\Python311\\site-packages\\IPython\\core\\ultratb.py\", line 1172, in structured_traceback\n",
      "    formatted_exception = self.format_exception_as_a_whole(etype, evalue, etb, number_of_lines_of_context,\n",
      "                          ^^^^^^^^^^^^^^^^^^^^^^^^^^^^^^^^^^^^^^^^^^^^^^^^^^^^^^^^^^^^^^^^^^^^^^^^^^^^^^^^\n",
      "  File \"C:\\Users\\91944\\AppData\\Roaming\\Python\\Python311\\site-packages\\IPython\\core\\ultratb.py\", line 1087, in format_exception_as_a_whole\n",
      "    frames.append(self.format_record(record))\n",
      "                  ^^^^^^^^^^^^^^^^^^^^^^^^^^\n",
      "  File \"C:\\Users\\91944\\AppData\\Roaming\\Python\\Python311\\site-packages\\IPython\\core\\ultratb.py\", line 969, in format_record\n",
      "    frame_info.lines, Colors, self.has_colors, lvals\n",
      "    ^^^^^^^^^^^^^^^^\n",
      "  File \"C:\\Users\\91944\\AppData\\Roaming\\Python\\Python311\\site-packages\\IPython\\core\\ultratb.py\", line 792, in lines\n",
      "    return self._sd.lines\n",
      "           ^^^^^^^^^^^^^^\n",
      "  File \"C:\\Users\\91944\\AppData\\Roaming\\Python\\Python311\\site-packages\\stack_data\\utils.py\", line 144, in cached_property_wrapper\n",
      "    value = obj.__dict__[self.func.__name__] = self.func(obj)\n",
      "                                               ^^^^^^^^^^^^^^\n",
      "  File \"C:\\Users\\91944\\AppData\\Roaming\\Python\\Python311\\site-packages\\stack_data\\core.py\", line 734, in lines\n",
      "    pieces = self.included_pieces\n",
      "             ^^^^^^^^^^^^^^^^^^^^\n",
      "  File \"C:\\Users\\91944\\AppData\\Roaming\\Python\\Python311\\site-packages\\stack_data\\utils.py\", line 144, in cached_property_wrapper\n",
      "    value = obj.__dict__[self.func.__name__] = self.func(obj)\n",
      "                                               ^^^^^^^^^^^^^^\n",
      "  File \"C:\\Users\\91944\\AppData\\Roaming\\Python\\Python311\\site-packages\\stack_data\\core.py\", line 677, in included_pieces\n",
      "    scope_pieces = self.scope_pieces\n",
      "                   ^^^^^^^^^^^^^^^^^\n",
      "  File \"C:\\Users\\91944\\AppData\\Roaming\\Python\\Python311\\site-packages\\stack_data\\utils.py\", line 144, in cached_property_wrapper\n",
      "    value = obj.__dict__[self.func.__name__] = self.func(obj)\n",
      "                                               ^^^^^^^^^^^^^^\n",
      "  File \"C:\\Users\\91944\\AppData\\Roaming\\Python\\Python311\\site-packages\\stack_data\\core.py\", line 614, in scope_pieces\n",
      "    scope_start, scope_end = self.source.line_range(self.scope)\n",
      "                             ^^^^^^^^^^^^^^^^^^^^^^^^^^^^^^^^^^\n",
      "  File \"C:\\Users\\91944\\AppData\\Roaming\\Python\\Python311\\site-packages\\stack_data\\core.py\", line 178, in line_range\n",
      "    return line_range(self.asttext(), node)\n",
      "                      ^^^^^^^^^^^^\n",
      "AttributeError: 'Source' object has no attribute 'asttext'\n"
     ]
    }
   ],
   "source": [
    "names[0]='naga chaitanya'"
   ]
  },
  {
   "cell_type": "code",
   "execution_count": 56,
   "id": "da204218",
   "metadata": {},
   "outputs": [],
   "source": [
    "# we cant change the tuples above one is example!"
   ]
  },
  {
   "cell_type": "code",
   "execution_count": 57,
   "id": "d2e34a5e",
   "metadata": {},
   "outputs": [
    {
     "data": {
      "text/plain": [
       "(23, 'balaji', 'madanapalle')"
      ]
     },
     "execution_count": 57,
     "metadata": {},
     "output_type": "execute_result"
    }
   ],
   "source": [
    "names"
   ]
  },
  {
   "cell_type": "code",
   "execution_count": 58,
   "id": "4d57cfaa",
   "metadata": {},
   "outputs": [
    {
     "data": {
      "text/plain": [
       "1"
      ]
     },
     "execution_count": 58,
     "metadata": {},
     "output_type": "execute_result"
    }
   ],
   "source": [
    "names.count('balaji')"
   ]
  },
  {
   "cell_type": "code",
   "execution_count": 60,
   "id": "b9ec0fe5",
   "metadata": {},
   "outputs": [
    {
     "data": {
      "text/plain": [
       "0"
      ]
     },
     "execution_count": 60,
     "metadata": {},
     "output_type": "execute_result"
    }
   ],
   "source": [
    "names.index(23)"
   ]
  },
  {
   "cell_type": "code",
   "execution_count": 61,
   "id": "1ae19176",
   "metadata": {},
   "outputs": [
    {
     "data": {
      "text/plain": [
       "2"
      ]
     },
     "execution_count": 61,
     "metadata": {},
     "output_type": "execute_result"
    }
   ],
   "source": [
    "names.index('madanapalle')"
   ]
  },
  {
   "cell_type": "code",
   "execution_count": 62,
   "id": "42e36d2a",
   "metadata": {},
   "outputs": [],
   "source": [
    "#SETS"
   ]
  },
  {
   "cell_type": "code",
   "execution_count": 64,
   "id": "84a71164",
   "metadata": {},
   "outputs": [],
   "source": [
    "# A tuple is unordered,unindexed, no duplicates"
   ]
  },
  {
   "cell_type": "code",
   "execution_count": 68,
   "id": "18b25bb6",
   "metadata": {},
   "outputs": [],
   "source": [
    "utensils={'spoon','fork','knife'}"
   ]
  },
  {
   "cell_type": "code",
   "execution_count": 69,
   "id": "21866bbc",
   "metadata": {},
   "outputs": [
    {
     "name": "stdout",
     "output_type": "stream",
     "text": [
      "fork\n",
      "knife\n",
      "spoon\n"
     ]
    }
   ],
   "source": [
    "for i in utensils:\n",
    "    print(i)"
   ]
  },
  {
   "cell_type": "code",
   "execution_count": 70,
   "id": "a376feae",
   "metadata": {},
   "outputs": [
    {
     "name": "stdout",
     "output_type": "stream",
     "text": [
      "fork\n",
      "knife\n",
      "spoon\n"
     ]
    }
   ],
   "source": [
    "for i in utensils:\n",
    "    print(i)"
   ]
  },
  {
   "cell_type": "code",
   "execution_count": 73,
   "id": "c56e56ab",
   "metadata": {},
   "outputs": [
    {
     "data": {
      "text/plain": [
       "{'fork', 'knife', 'spoon'}"
      ]
     },
     "execution_count": 73,
     "metadata": {},
     "output_type": "execute_result"
    }
   ],
   "source": [
    "#tuple having no duplicates will store lets make a try\n",
    "utensils"
   ]
  },
  {
   "cell_type": "code",
   "execution_count": 74,
   "id": "7b6fb71c",
   "metadata": {},
   "outputs": [],
   "source": [
    "utensils={'spoon','fork','knife','knife'}"
   ]
  },
  {
   "cell_type": "code",
   "execution_count": 76,
   "id": "55ca7967",
   "metadata": {},
   "outputs": [
    {
     "data": {
      "text/plain": [
       "{'fork', 'knife', 'spoon'}"
      ]
     },
     "execution_count": 76,
     "metadata": {},
     "output_type": "execute_result"
    }
   ],
   "source": [
    "utensils   # we can observe the knife is not get repeated(no duplicates)"
   ]
  },
  {
   "cell_type": "code",
   "execution_count": 77,
   "id": "7a76e530",
   "metadata": {},
   "outputs": [],
   "source": [
    "utensils.add('sangeetha garu')"
   ]
  },
  {
   "cell_type": "code",
   "execution_count": 78,
   "id": "16cfdea9",
   "metadata": {},
   "outputs": [
    {
     "data": {
      "text/plain": [
       "{'fork', 'knife', 'sangeetha garu', 'spoon'}"
      ]
     },
     "execution_count": 78,
     "metadata": {},
     "output_type": "execute_result"
    }
   ],
   "source": [
    "utensils"
   ]
  },
  {
   "cell_type": "code",
   "execution_count": 79,
   "id": "0f27dd0d",
   "metadata": {},
   "outputs": [],
   "source": [
    "utensils.remove('sangeetha garu')"
   ]
  },
  {
   "cell_type": "code",
   "execution_count": 89,
   "id": "2829580e",
   "metadata": {},
   "outputs": [
    {
     "data": {
      "text/plain": [
       "{'d', 'e', 'fork', 'h', 'i', 'knife', 's', 'spoon'}"
      ]
     },
     "execution_count": 89,
     "metadata": {},
     "output_type": "execute_result"
    }
   ],
   "source": [
    "utensils"
   ]
  },
  {
   "cell_type": "code",
   "execution_count": 82,
   "id": "9aa86e62",
   "metadata": {},
   "outputs": [],
   "source": [
    "# we use extend in lists but in sets we use the update "
   ]
  },
  {
   "cell_type": "code",
   "execution_count": 84,
   "id": "f9a5a827",
   "metadata": {},
   "outputs": [],
   "source": [
    "dishes={'jilebi','white rice','rasagulla','tomato chutney'}"
   ]
  },
  {
   "cell_type": "code",
   "execution_count": 85,
   "id": "c24b0ff7",
   "metadata": {},
   "outputs": [
    {
     "data": {
      "text/plain": [
       "{'jilebi', 'rasagulla', 'tomato chutney', 'white rice'}"
      ]
     },
     "execution_count": 85,
     "metadata": {},
     "output_type": "execute_result"
    }
   ],
   "source": [
    "dishes"
   ]
  },
  {
   "cell_type": "code",
   "execution_count": 86,
   "id": "296201c5",
   "metadata": {},
   "outputs": [
    {
     "data": {
      "text/plain": [
       "{'fork', 'knife', 'spoon'}"
      ]
     },
     "execution_count": 86,
     "metadata": {},
     "output_type": "execute_result"
    }
   ],
   "source": [
    "utensils"
   ]
  },
  {
   "cell_type": "code",
   "execution_count": 92,
   "id": "5431717f",
   "metadata": {},
   "outputs": [],
   "source": [
    "utensils.update(dishes)"
   ]
  },
  {
   "cell_type": "code",
   "execution_count": 93,
   "id": "1a0dbd1e",
   "metadata": {},
   "outputs": [
    {
     "data": {
      "text/plain": [
       "{'d',\n",
       " 'e',\n",
       " 'fork',\n",
       " 'h',\n",
       " 'i',\n",
       " 'jilebi',\n",
       " 'knife',\n",
       " 'rasagulla',\n",
       " 's',\n",
       " 'spoon',\n",
       " 'tomato chutney',\n",
       " 'white rice'}"
      ]
     },
     "execution_count": 93,
     "metadata": {},
     "output_type": "execute_result"
    }
   ],
   "source": [
    "utensils"
   ]
  },
  {
   "cell_type": "code",
   "execution_count": 94,
   "id": "590b718a",
   "metadata": {},
   "outputs": [],
   "source": [
    "dinner_table=utensils.union(dishes)"
   ]
  },
  {
   "cell_type": "code",
   "execution_count": 96,
   "id": "460e4100",
   "metadata": {},
   "outputs": [
    {
     "name": "stdout",
     "output_type": "stream",
     "text": [
      "fork\n",
      "s\n",
      "tomato chutney\n",
      "knife\n",
      "h\n",
      "spoon\n",
      "d\n",
      "e\n",
      "rasagulla\n",
      "white rice\n",
      "i\n",
      "jilebi\n"
     ]
    }
   ],
   "source": [
    "for i in dinner_table:\n",
    "    print(i)"
   ]
  },
  {
   "cell_type": "code",
   "execution_count": 97,
   "id": "80f8580f",
   "metadata": {},
   "outputs": [],
   "source": [
    "a={'sangetha garu','ssdc','python'}"
   ]
  },
  {
   "cell_type": "code",
   "execution_count": 98,
   "id": "a628bbad",
   "metadata": {},
   "outputs": [],
   "source": [
    "b={'balaji','harish','harshitha mam'}"
   ]
  },
  {
   "cell_type": "code",
   "execution_count": 102,
   "id": "1f975181",
   "metadata": {},
   "outputs": [],
   "source": [
    "a.update(b)"
   ]
  },
  {
   "cell_type": "code",
   "execution_count": 103,
   "id": "0f4bd88b",
   "metadata": {},
   "outputs": [
    {
     "name": "stdout",
     "output_type": "stream",
     "text": [
      "harish\n",
      "harshitha mam\n",
      "ssdc\n",
      "sangetha garu\n",
      "balaji\n",
      "python\n"
     ]
    }
   ],
   "source": [
    "for i in a:\n",
    "    print(i)"
   ]
  },
  {
   "cell_type": "code",
   "execution_count": 104,
   "id": "30163b39",
   "metadata": {},
   "outputs": [],
   "source": [
    "#lets add few elements into b\n",
    "b={'balaji','harish','harshitha mam','Vamsi sir',\"ramana physics sir\"}"
   ]
  },
  {
   "cell_type": "code",
   "execution_count": 105,
   "id": "a7deb076",
   "metadata": {},
   "outputs": [
    {
     "data": {
      "text/plain": [
       "{'python', 'sangetha garu', 'ssdc'}"
      ]
     },
     "execution_count": 105,
     "metadata": {},
     "output_type": "execute_result"
    }
   ],
   "source": [
    "a.difference(b)"
   ]
  },
  {
   "cell_type": "code",
   "execution_count": 106,
   "id": "34f25cc1",
   "metadata": {},
   "outputs": [
    {
     "data": {
      "text/plain": [
       "{'Vamsi sir', 'ramana physics sir'}"
      ]
     },
     "execution_count": 106,
     "metadata": {},
     "output_type": "execute_result"
    }
   ],
   "source": [
    "b.difference(a)"
   ]
  },
  {
   "cell_type": "code",
   "execution_count": 107,
   "id": "804e231c",
   "metadata": {},
   "outputs": [],
   "source": [
    "#dictionary is a changeble , unordered, key value pairs (#hashable)"
   ]
  },
  {
   "cell_type": "code",
   "execution_count": 108,
   "id": "58fd1328",
   "metadata": {},
   "outputs": [],
   "source": [
    "dictionary={'name':'balaji','age':23,'city': 'Madanapalle'}"
   ]
  },
  {
   "cell_type": "code",
   "execution_count": 109,
   "id": "4a0be54e",
   "metadata": {},
   "outputs": [
    {
     "data": {
      "text/plain": [
       "{'name': 'balaji', 'age': 23, 'city': 'Madanapalle'}"
      ]
     },
     "execution_count": 109,
     "metadata": {},
     "output_type": "execute_result"
    }
   ],
   "source": [
    "dictionary"
   ]
  },
  {
   "cell_type": "code",
   "execution_count": 110,
   "id": "fa94b74f",
   "metadata": {},
   "outputs": [
    {
     "name": "stdout",
     "output_type": "stream",
     "text": [
      "name\n",
      "age\n",
      "city\n"
     ]
    }
   ],
   "source": [
    "for i in dictionary:\n",
    "    print(i)"
   ]
  },
  {
   "cell_type": "code",
   "execution_count": 116,
   "id": "c051b534",
   "metadata": {},
   "outputs": [],
   "source": [
    "countries = {\n",
    "    \"USA\": \"Washington D.C.\",\n",
    "    \"UK\": \"London\",\n",
    "    \"France\": \"Paris\",\n",
    "    \"Germany\": \"Berlin\",\n",
    "    \"India\": \"New Delhi\",\n",
    "    \"Japan\": \"Tokyo\",\n",
    "    \"China\": \"Beijing\",\n",
    "    # Add more countries and capitals as needed\n",
    "}"
   ]
  },
  {
   "cell_type": "code",
   "execution_count": 117,
   "id": "a22bb81b",
   "metadata": {},
   "outputs": [
    {
     "data": {
      "text/plain": [
       "{'USA': 'Washington D.C.',\n",
       " 'UK': 'London',\n",
       " 'France': 'Paris',\n",
       " 'Germany': 'Berlin',\n",
       " 'India': 'New Delhi',\n",
       " 'Japan': 'Tokyo',\n",
       " 'China': 'Beijing'}"
      ]
     },
     "execution_count": 117,
     "metadata": {},
     "output_type": "execute_result"
    }
   ],
   "source": [
    "countries"
   ]
  },
  {
   "cell_type": "code",
   "execution_count": 121,
   "id": "8070832b",
   "metadata": {},
   "outputs": [
    {
     "name": "stdout",
     "output_type": "stream",
     "text": [
      "London\n"
     ]
    }
   ],
   "source": [
    "print(countries['UK'])"
   ]
  },
  {
   "cell_type": "code",
   "execution_count": 122,
   "id": "8856c85b",
   "metadata": {},
   "outputs": [
    {
     "data": {
      "text/plain": [
       "'New Delhi'"
      ]
     },
     "execution_count": 122,
     "metadata": {},
     "output_type": "execute_result"
    }
   ],
   "source": [
    "countries['India']"
   ]
  },
  {
   "cell_type": "code",
   "execution_count": 123,
   "id": "40e6c19a",
   "metadata": {},
   "outputs": [
    {
     "data": {
      "text/plain": [
       "dict_keys(['USA', 'UK', 'France', 'Germany', 'India', 'Japan', 'China'])"
      ]
     },
     "execution_count": 123,
     "metadata": {},
     "output_type": "execute_result"
    }
   ],
   "source": [
    "countries.keys()"
   ]
  },
  {
   "cell_type": "code",
   "execution_count": 124,
   "id": "cdf226f2",
   "metadata": {},
   "outputs": [
    {
     "data": {
      "text/plain": [
       "dict_values(['Washington D.C.', 'London', 'Paris', 'Berlin', 'New Delhi', 'Tokyo', 'Beijing'])"
      ]
     },
     "execution_count": 124,
     "metadata": {},
     "output_type": "execute_result"
    }
   ],
   "source": [
    "countries.values()"
   ]
  },
  {
   "cell_type": "code",
   "execution_count": 125,
   "id": "8576ded4",
   "metadata": {},
   "outputs": [
    {
     "data": {
      "text/plain": [
       "{'USA': 'Washington D.C.',\n",
       " 'UK': 'London',\n",
       " 'France': 'Paris',\n",
       " 'Germany': 'Berlin',\n",
       " 'India': 'New Delhi',\n",
       " 'Japan': 'Tokyo',\n",
       " 'China': 'Beijing'}"
      ]
     },
     "execution_count": 125,
     "metadata": {},
     "output_type": "execute_result"
    }
   ],
   "source": [
    "countries"
   ]
  },
  {
   "cell_type": "code",
   "execution_count": 126,
   "id": "a184f590",
   "metadata": {},
   "outputs": [
    {
     "data": {
      "text/plain": [
       "dict_items([('USA', 'Washington D.C.'), ('UK', 'London'), ('France', 'Paris'), ('Germany', 'Berlin'), ('India', 'New Delhi'), ('Japan', 'Tokyo'), ('China', 'Beijing')])"
      ]
     },
     "execution_count": 126,
     "metadata": {},
     "output_type": "execute_result"
    }
   ],
   "source": [
    "countries.items()"
   ]
  },
  {
   "cell_type": "code",
   "execution_count": 129,
   "id": "88fb699c",
   "metadata": {},
   "outputs": [
    {
     "name": "stdout",
     "output_type": "stream",
     "text": [
      "USA Washington D.C.\n",
      "UK London\n",
      "France Paris\n",
      "Germany Berlin\n",
      "India New Delhi\n",
      "Japan Tokyo\n",
      "China Beijing\n"
     ]
    }
   ],
   "source": [
    "for keys, values in countries.items():\n",
    "    print(keys , values)"
   ]
  },
  {
   "cell_type": "code",
   "execution_count": 130,
   "id": "6d0a5fe4",
   "metadata": {},
   "outputs": [],
   "source": [
    "# we can add elements using update"
   ]
  },
  {
   "cell_type": "code",
   "execution_count": 131,
   "id": "3fdf7746",
   "metadata": {},
   "outputs": [],
   "source": [
    "countries.update({'Balaji': ' Andhara Pradesh'})"
   ]
  },
  {
   "cell_type": "code",
   "execution_count": 132,
   "id": "8cce90b5",
   "metadata": {},
   "outputs": [
    {
     "name": "stdout",
     "output_type": "stream",
     "text": [
      "USA Washington D.C.\n",
      "UK London\n",
      "France Paris\n",
      "Germany Berlin\n",
      "India New Delhi\n",
      "Japan Tokyo\n",
      "China Beijing\n",
      "Balaji  Andhara Pradesh\n"
     ]
    }
   ],
   "source": [
    "for keys, values in countries.items():\n",
    "    print(keys , values)"
   ]
  },
  {
   "cell_type": "code",
   "execution_count": 133,
   "id": "8f1f369e",
   "metadata": {},
   "outputs": [],
   "source": [
    "countries.update({'Balaji': 'Chennai'})"
   ]
  },
  {
   "cell_type": "code",
   "execution_count": 134,
   "id": "27f5073f",
   "metadata": {},
   "outputs": [
    {
     "name": "stdout",
     "output_type": "stream",
     "text": [
      "USA Washington D.C.\n",
      "UK London\n",
      "France Paris\n",
      "Germany Berlin\n",
      "India New Delhi\n",
      "Japan Tokyo\n",
      "China Beijing\n",
      "Balaji Chennai\n"
     ]
    }
   ],
   "source": [
    "for keys, values in countries.items():\n",
    "    print(keys , values)"
   ]
  },
  {
   "cell_type": "code",
   "execution_count": 136,
   "id": "aa274a6f",
   "metadata": {},
   "outputs": [
    {
     "data": {
      "text/plain": [
       "'New Delhi'"
      ]
     },
     "execution_count": 136,
     "metadata": {},
     "output_type": "execute_result"
    }
   ],
   "source": [
    "countries.pop('India')"
   ]
  },
  {
   "cell_type": "code",
   "execution_count": 137,
   "id": "658bc93f",
   "metadata": {},
   "outputs": [
    {
     "data": {
      "text/plain": [
       "{'USA': 'Washington D.C.',\n",
       " 'UK': 'London',\n",
       " 'France': 'Paris',\n",
       " 'Germany': 'Berlin',\n",
       " 'Japan': 'Tokyo',\n",
       " 'China': 'Beijing',\n",
       " 'Balaji': 'Chennai'}"
      ]
     },
     "execution_count": 137,
     "metadata": {},
     "output_type": "execute_result"
    }
   ],
   "source": [
    "countries"
   ]
  },
  {
   "cell_type": "code",
   "execution_count": 138,
   "id": "d4c101c0",
   "metadata": {},
   "outputs": [],
   "source": [
    "countries.clear()"
   ]
  },
  {
   "cell_type": "code",
   "execution_count": 139,
   "id": "6b19f5a8",
   "metadata": {},
   "outputs": [
    {
     "data": {
      "text/plain": [
       "{}"
      ]
     },
     "execution_count": 139,
     "metadata": {},
     "output_type": "execute_result"
    }
   ],
   "source": [
    "countries"
   ]
  },
  {
   "cell_type": "code",
   "execution_count": 140,
   "id": "2b06f6a5",
   "metadata": {},
   "outputs": [
    {
     "data": {
      "text/plain": [
       "dict"
      ]
     },
     "execution_count": 140,
     "metadata": {},
     "output_type": "execute_result"
    }
   ],
   "source": [
    "type(countries)"
   ]
  },
  {
   "cell_type": "code",
   "execution_count": 141,
   "id": "c3a31501",
   "metadata": {},
   "outputs": [
    {
     "data": {
      "text/plain": [
       "0"
      ]
     },
     "execution_count": 141,
     "metadata": {},
     "output_type": "execute_result"
    }
   ],
   "source": [
    "len(countries)"
   ]
  },
  {
   "cell_type": "code",
   "execution_count": 144,
   "id": "1dbcbe90",
   "metadata": {},
   "outputs": [],
   "source": [
    "name='balajirao'"
   ]
  },
  {
   "cell_type": "code",
   "execution_count": 146,
   "id": "5d3f587a",
   "metadata": {},
   "outputs": [],
   "source": [
    "if(name.islower()):\n",
    "    name=name.upper()"
   ]
  },
  {
   "cell_type": "code",
   "execution_count": 147,
   "id": "69e41a59",
   "metadata": {},
   "outputs": [
    {
     "data": {
      "text/plain": [
       "'BALAJIRAO'"
      ]
     },
     "execution_count": 147,
     "metadata": {},
     "output_type": "execute_result"
    }
   ],
   "source": [
    "name"
   ]
  },
  {
   "cell_type": "code",
   "execution_count": 148,
   "id": "4d30e647",
   "metadata": {},
   "outputs": [],
   "source": [
    "if (name.isupper()):\n",
    "    name=name.lower()"
   ]
  },
  {
   "cell_type": "code",
   "execution_count": 149,
   "id": "8ac6daf3",
   "metadata": {},
   "outputs": [
    {
     "data": {
      "text/plain": [
       "'balajirao'"
      ]
     },
     "execution_count": 149,
     "metadata": {},
     "output_type": "execute_result"
    }
   ],
   "source": [
    "name"
   ]
  },
  {
   "cell_type": "code",
   "execution_count": 150,
   "id": "f6b696cd",
   "metadata": {},
   "outputs": [],
   "source": [
    "if name.islower():\n",
    "    name= name.title()"
   ]
  },
  {
   "cell_type": "code",
   "execution_count": 152,
   "id": "eaac451f",
   "metadata": {},
   "outputs": [],
   "source": [
    "name= 'sangeetha garu'"
   ]
  },
  {
   "cell_type": "code",
   "execution_count": 153,
   "id": "c596012a",
   "metadata": {},
   "outputs": [],
   "source": [
    "if name.islower():\n",
    "    name= name.title()"
   ]
  },
  {
   "cell_type": "code",
   "execution_count": 154,
   "id": "f1db9c04",
   "metadata": {},
   "outputs": [
    {
     "data": {
      "text/plain": [
       "'Sangeetha Garu'"
      ]
     },
     "execution_count": 154,
     "metadata": {},
     "output_type": "execute_result"
    }
   ],
   "source": [
    "name"
   ]
  },
  {
   "cell_type": "code",
   "execution_count": 155,
   "id": "0e643937",
   "metadata": {},
   "outputs": [
    {
     "data": {
      "text/plain": [
       "'Sangeetha Garu'"
      ]
     },
     "execution_count": 155,
     "metadata": {},
     "output_type": "execute_result"
    }
   ],
   "source": [
    "name[0:]"
   ]
  },
  {
   "cell_type": "code",
   "execution_count": 158,
   "id": "c06196cd",
   "metadata": {},
   "outputs": [
    {
     "data": {
      "text/plain": [
       "'uraG ahteegnaS'"
      ]
     },
     "execution_count": 158,
     "metadata": {},
     "output_type": "execute_result"
    }
   ],
   "source": [
    "name[::-1]"
   ]
  },
  {
   "cell_type": "code",
   "execution_count": 159,
   "id": "eefb5dd0",
   "metadata": {},
   "outputs": [],
   "source": [
    "#Fucntions"
   ]
  },
  {
   "cell_type": "code",
   "execution_count": 160,
   "id": "abb0695c",
   "metadata": {},
   "outputs": [],
   "source": [
    "# a fun is execute only when we call"
   ]
  },
  {
   "cell_type": "code",
   "execution_count": 161,
   "id": "c5054304",
   "metadata": {},
   "outputs": [
    {
     "name": "stdout",
     "output_type": "stream",
     "text": [
      "helo sir good morning\n"
     ]
    }
   ],
   "source": [
    "def helo():\n",
    "    print(\"helo sir good morning\")\n",
    "helo()"
   ]
  },
  {
   "cell_type": "code",
   "execution_count": 163,
   "id": "cf53ea91",
   "metadata": {},
   "outputs": [],
   "source": [
    "def helo():\n",
    "    print(\"helo sir good morning\")  # the fun execute's when we call"
   ]
  },
  {
   "cell_type": "code",
   "execution_count": 166,
   "id": "6adead17",
   "metadata": {},
   "outputs": [
    {
     "name": "stdout",
     "output_type": "stream",
     "text": [
      "helo sir good morning\n",
      "helo sir good morning\n",
      "helo sir good morning\n",
      "helo sir good morning\n"
     ]
    }
   ],
   "source": [
    "def helo():\n",
    "    print(\"helo sir good morning\")\n",
    "helo()\n",
    "helo()\n",
    "helo()\n",
    "helo()"
   ]
  },
  {
   "cell_type": "code",
   "execution_count": 167,
   "id": "fddd25b9",
   "metadata": {
    "scrolled": true
   },
   "outputs": [
    {
     "name": "stdout",
     "output_type": "stream",
     "text": [
      "helo balaji sir good morning\n"
     ]
    }
   ],
   "source": [
    "def helo(name):\n",
    "    print(\"helo \"+name +\" sir good morning\")\n",
    "helo('balaji')"
   ]
  },
  {
   "cell_type": "code",
   "execution_count": null,
   "id": "b0c00b97",
   "metadata": {},
   "outputs": [],
   "source": []
  },
  {
   "cell_type": "code",
   "execution_count": null,
   "id": "4e8e7be0",
   "metadata": {},
   "outputs": [],
   "source": []
  },
  {
   "cell_type": "code",
   "execution_count": null,
   "id": "3720c560",
   "metadata": {},
   "outputs": [],
   "source": []
  },
  {
   "cell_type": "code",
   "execution_count": null,
   "id": "3472bc42",
   "metadata": {},
   "outputs": [],
   "source": []
  },
  {
   "cell_type": "code",
   "execution_count": null,
   "id": "00fc0fc2",
   "metadata": {},
   "outputs": [],
   "source": []
  },
  {
   "cell_type": "code",
   "execution_count": null,
   "id": "e82103ca",
   "metadata": {},
   "outputs": [],
   "source": []
  }
 ],
 "metadata": {
  "kernelspec": {
   "display_name": "Python 3 (ipykernel)",
   "language": "python",
   "name": "python3"
  },
  "language_info": {
   "codemirror_mode": {
    "name": "ipython",
    "version": 3
   },
   "file_extension": ".py",
   "mimetype": "text/x-python",
   "name": "python",
   "nbconvert_exporter": "python",
   "pygments_lexer": "ipython3",
   "version": "3.11.5"
  }
 },
 "nbformat": 4,
 "nbformat_minor": 5
}
